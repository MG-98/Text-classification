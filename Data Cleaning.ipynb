{
 "cells": [
  {
   "cell_type": "code",
   "execution_count": 129,
   "metadata": {},
   "outputs": [
    {
     "name": "stderr",
     "output_type": "stream",
     "text": [
      "[nltk_data] Downloading package punkt to /home/mg/nltk_data...\n",
      "[nltk_data]   Package punkt is already up-to-date!\n",
      "[nltk_data] Downloading package averaged_perceptron_tagger to\n",
      "[nltk_data]     /home/mg/nltk_data...\n",
      "[nltk_data]   Package averaged_perceptron_tagger is already up-to-\n",
      "[nltk_data]       date!\n",
      "[nltk_data] Downloading package stopwords to /home/mg/nltk_data...\n",
      "[nltk_data]   Package stopwords is already up-to-date!\n",
      "[nltk_data] Downloading package wordnet to /home/mg/nltk_data...\n",
      "[nltk_data]   Package wordnet is already up-to-date!\n",
      "[nltk_data] Downloading package words to /home/mg/nltk_data...\n",
      "[nltk_data]   Unzipping corpora/words.zip.\n",
      "[nltk_data] Downloading package wordnet_ic to /home/mg/nltk_data...\n",
      "[nltk_data]   Package wordnet_ic is already up-to-date!\n",
      "[nltk_data] Downloading package names to /home/mg/nltk_data...\n",
      "[nltk_data]   Package names is already up-to-date!\n"
     ]
    }
   ],
   "source": [
    "import nltk \n",
    "nltk.download('punkt')\n",
    "nltk.download('averaged_perceptron_tagger')\n",
    "nltk.download('stopwords')\n",
    "nltk.download('wordnet')\n",
    "nltk.download('words')\n",
    "nltk.download('wordnet_ic')\n",
    "nltk.download('names')\n",
    "\n",
    "from nltk.stem.porter import PorterStemmer\n",
    "from nltk.corpus import stopwords\n",
    "import spacy\n",
    "import string\n",
    "from nltk.corpus import wordnet\n",
    "from nltk.corpus import wordnet_ic\n",
    "from string import punctuation\n",
    "import numpy as np\n",
    "from nltk import pos_tag\n",
    "from nltk import RegexpParser\n",
    "from nltk.wsd import lesk\n",
    "\n",
    "\n",
    "\n",
    "stemmer = PorterStemmer()\n",
    "sp = spacy.load('en_core_web_sm')\n"
   ]
  },
  {
   "cell_type": "code",
   "execution_count": 179,
   "metadata": {},
   "outputs": [
    {
     "name": "stdout",
     "output_type": "stream",
     "text": [
      "                                            file content  class number\n",
      "0      \\n\\nAs summer approaches, the usual preparatio...             0\n",
      "1      \\t\\tSouthern California RideList -- 4/14/93\\n\\...             0\n",
      "2       \\n Sigha.\\n \\n 1) Trying to figure out a way ...             0\n",
      "3      In article <C5I2HM.JwC@srgenprp.sr.hp.com> fra...             0\n",
      "4      snark@bmerh327.BNR.CA (Eric Nelson) writes:\\n:...             0\n",
      "...                                                  ...           ...\n",
      "18743  Seagate 1.2GB SCSI hard Drive\\nBrand NEW with ...            19\n",
      "18744  my 14\" compacq vga monitor id dead due to the ...            19\n",
      "18745   I'm selling $388 worth of chemicals for $100 ...            19\n",
      "18746  \"Computer Friends\" nubus card - good for doing...            19\n",
      "18747                        COMPUTER HARDWARE\\n  \\t ...            19\n",
      "\n",
      "[18748 rows x 2 columns]\n"
     ]
    }
   ],
   "source": [
    "import pandas\n",
    "import re\n",
    "Datadf = pandas.read_csv('Data.csv')\n",
    "print(Datadf)"
   ]
  },
  {
   "cell_type": "code",
   "execution_count": 176,
   "metadata": {},
   "outputs": [],
   "source": [
    "table = str.maketrans(dict.fromkeys(string.punctuation))\n",
    "words = set(nltk.corpus.words.words())\n",
    "\n",
    "def data_cleaning(sent):\n",
    "    \"\"\"\n",
    "    This function is meant to clean our data from the following:\n",
    "        1. Emails\n",
    "        2. Punctuations\n",
    "        3. Non-english words\n",
    "    \"\"\"\n",
    "    try:\n",
    "        sent = re.sub(\"\\S*@\\S*\\s?\", '', sent)\n",
    "        sent = sent.translate(table) \n",
    "        sent = \" \".join(w for w in nltk.wordpunct_tokenize(sent) if w.lower() in words or not w.isalpha())\n",
    "    except:\n",
    "        pass\n",
    "    \n",
    "    return sent\n",
    "\n",
    "\n"
   ]
  },
  {
   "cell_type": "code",
   "execution_count": 180,
   "metadata": {},
   "outputs": [],
   "source": [
    "Datadf['file content'] = Datadf['file content'].apply(lambda row : data_cleaning(row))"
   ]
  },
  {
   "cell_type": "code",
   "execution_count": 181,
   "metadata": {},
   "outputs": [
    {
     "data": {
      "text/html": [
       "<div>\n",
       "<style scoped>\n",
       "    .dataframe tbody tr th:only-of-type {\n",
       "        vertical-align: middle;\n",
       "    }\n",
       "\n",
       "    .dataframe tbody tr th {\n",
       "        vertical-align: top;\n",
       "    }\n",
       "\n",
       "    .dataframe thead th {\n",
       "        text-align: right;\n",
       "    }\n",
       "</style>\n",
       "<table border=\"1\" class=\"dataframe\">\n",
       "  <thead>\n",
       "    <tr style=\"text-align: right;\">\n",
       "      <th></th>\n",
       "      <th>file content</th>\n",
       "      <th>class number</th>\n",
       "    </tr>\n",
       "  </thead>\n",
       "  <tbody>\n",
       "    <tr>\n",
       "      <th>0</th>\n",
       "      <td>As summer the usual are being made Me was thin...</td>\n",
       "      <td>0</td>\n",
       "    </tr>\n",
       "    <tr>\n",
       "      <th>1</th>\n",
       "      <td>Southern 41493 Please send me any to this ride...</td>\n",
       "      <td>0</td>\n",
       "    </tr>\n",
       "    <tr>\n",
       "      <th>2</th>\n",
       "      <td>1 Trying to figure out a way to put a halogen ...</td>\n",
       "      <td>0</td>\n",
       "    </tr>\n",
       "    <tr>\n",
       "      <th>3</th>\n",
       "      <td>In article Frank Ball wrote The 400 model is e...</td>\n",
       "      <td>0</td>\n",
       "    </tr>\n",
       "    <tr>\n",
       "      <th>4</th>\n",
       "      <td>Eric Nelson My 83 Nighthawk two related with t...</td>\n",
       "      <td>0</td>\n",
       "    </tr>\n",
       "    <tr>\n",
       "      <th>...</th>\n",
       "      <td>...</td>\n",
       "      <td>...</td>\n",
       "    </tr>\n",
       "    <tr>\n",
       "      <th>18743</th>\n",
       "      <td>12GB hard Drive Brand NEW with full factory wa...</td>\n",
       "      <td>19</td>\n",
       "    </tr>\n",
       "    <tr>\n",
       "      <th>18744</th>\n",
       "      <td>my 14 monitor id dead due to the failure if yo...</td>\n",
       "      <td>19</td>\n",
       "    </tr>\n",
       "    <tr>\n",
       "      <th>18745</th>\n",
       "      <td>selling 388 worth of for 100 or Ill split it i...</td>\n",
       "      <td>19</td>\n",
       "    </tr>\n",
       "    <tr>\n",
       "      <th>18746</th>\n",
       "      <td>Computer card good for doing graphics on your ...</td>\n",
       "      <td>19</td>\n",
       "    </tr>\n",
       "    <tr>\n",
       "      <th>18747</th>\n",
       "      <td>COMPUTER HARDWARE all are working fine last ti...</td>\n",
       "      <td>19</td>\n",
       "    </tr>\n",
       "  </tbody>\n",
       "</table>\n",
       "<p>18748 rows × 2 columns</p>\n",
       "</div>"
      ],
      "text/plain": [
       "                                            file content  class number\n",
       "0      As summer the usual are being made Me was thin...             0\n",
       "1      Southern 41493 Please send me any to this ride...             0\n",
       "2      1 Trying to figure out a way to put a halogen ...             0\n",
       "3      In article Frank Ball wrote The 400 model is e...             0\n",
       "4      Eric Nelson My 83 Nighthawk two related with t...             0\n",
       "...                                                  ...           ...\n",
       "18743  12GB hard Drive Brand NEW with full factory wa...            19\n",
       "18744  my 14 monitor id dead due to the failure if yo...            19\n",
       "18745  selling 388 worth of for 100 or Ill split it i...            19\n",
       "18746  Computer card good for doing graphics on your ...            19\n",
       "18747  COMPUTER HARDWARE all are working fine last ti...            19\n",
       "\n",
       "[18748 rows x 2 columns]"
      ]
     },
     "execution_count": 181,
     "metadata": {},
     "output_type": "execute_result"
    }
   ],
   "source": [
    "Datadf"
   ]
  },
  {
   "cell_type": "code",
   "execution_count": 182,
   "metadata": {},
   "outputs": [],
   "source": [
    "Datadf.to_csv('Cleaned_Data.csv')"
   ]
  },
  {
   "cell_type": "code",
   "execution_count": 183,
   "metadata": {},
   "outputs": [
    {
     "data": {
      "text/plain": [
       "'As summer the usual are being made Me was thinking of going for some in the local state For that I was to get a The next question is how shall I carry the thing on the bike given the metal frame and all I have a big 12 high and was that I would be able to bungee cord the to the Any one have any on such experimentation Taking the idea further what would happen if the was fully loaded with a full load 40lbs Is the load distribution going to be very affected How will the bike perform with such a load clinging to the back rest If I really secure it with no shifting do I still increase my of Collective wisdom I really cant afford leather pants Boots and jeans are all I can make do with What you think of the knee which use the one and like Is that a Bad Idea Are there any 81 CB650 DoD 1224 I would give my right arm to be ambidextrous'"
      ]
     },
     "execution_count": 183,
     "metadata": {},
     "output_type": "execute_result"
    }
   ],
   "source": [
    "Datadf['file content'][0]"
   ]
  },
  {
   "cell_type": "code",
   "execution_count": null,
   "metadata": {},
   "outputs": [],
   "source": []
  }
 ],
 "metadata": {
  "kernelspec": {
   "display_name": "Python 3",
   "language": "python",
   "name": "python3"
  },
  "language_info": {
   "codemirror_mode": {
    "name": "ipython",
    "version": 3
   },
   "file_extension": ".py",
   "mimetype": "text/x-python",
   "name": "python",
   "nbconvert_exporter": "python",
   "pygments_lexer": "ipython3",
   "version": "3.8.5"
  }
 },
 "nbformat": 4,
 "nbformat_minor": 4
}
