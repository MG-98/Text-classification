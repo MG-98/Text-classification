{
 "cells": [
  {
   "cell_type": "markdown",
   "metadata": {},
   "source": [
    "# Data preprocessing "
   ]
  },
  {
   "cell_type": "code",
   "execution_count": 1,
   "metadata": {},
   "outputs": [],
   "source": [
    "import pandas\n",
    "from torchtext.data.utils import get_tokenizer\n",
    "from collections import Counter\n",
    "from torchtext.vocab import Vocab\n",
    "import torch\n",
    "from torch.utils.data import DataLoader"
   ]
  },
  {
   "cell_type": "code",
   "execution_count": 2,
   "metadata": {},
   "outputs": [],
   "source": [
    "Data = pandas.read_csv('Cleaned_Data.csv')\n",
    "tokenizer = get_tokenizer('basic_english')\n",
    "counter = Counter()\n",
    "for line , label in zip(Data['file content'] ,Data['class number']) :\n",
    "    counter.update(tokenizer(line))\n",
    "vocab = Vocab(counter, min_freq=1)"
   ]
  },
  {
   "cell_type": "code",
   "execution_count": 3,
   "metadata": {},
   "outputs": [],
   "source": [
    "iter_data = Data.to_records(index=False)\n",
    "iter_data = list(iter_data)"
   ]
  },
  {
   "cell_type": "code",
   "execution_count": 4,
   "metadata": {},
   "outputs": [],
   "source": [
    "text_pipeline = lambda x: [vocab[token] for token in tokenizer(x)]"
   ]
  },
  {
   "cell_type": "code",
   "execution_count": 5,
   "metadata": {},
   "outputs": [],
   "source": [
    "device = torch.device(\"cuda\" if torch.cuda.is_available() else \"cpu\")\n",
    "\n",
    "def collate_batch(batch):\n",
    "    label_list, text_list, offsets = [], [], [0]\n",
    "    for (_text , _label) in batch:\n",
    "        label_list.append(_label)\n",
    "        processed_text = torch.tensor(text_pipeline(_text), dtype=torch.int64)\n",
    "        text_list.append(processed_text)\n",
    "        offsets.append(processed_text.size(0))\n",
    "    label_list = torch.tensor(label_list, dtype=torch.int64)\n",
    "    offsets = torch.tensor(offsets[:-1]).cumsum(dim=0)\n",
    "    text_list = torch.cat(text_list)\n",
    "    return label_list.to(device), text_list.to(device), offsets.to(device)\n",
    "\n",
    "dataloader = DataLoader(iter_data, batch_size=8, shuffle=False, collate_fn=collate_batch)"
   ]
  },
  {
   "cell_type": "markdown",
   "metadata": {},
   "source": [
    "# Model buidling"
   ]
  },
  {
   "cell_type": "code",
   "execution_count": 6,
   "metadata": {},
   "outputs": [],
   "source": [
    "from torch import nn\n",
    "from torch.utils.data.dataset import random_split\n",
    "\n",
    "class TextClassificationModel(nn.Module):\n",
    "\n",
    "    def __init__(self, vocab_size, embed_dim, num_class):\n",
    "        super(TextClassificationModel, self).__init__()\n",
    "        self.embedding = nn.EmbeddingBag(vocab_size, embed_dim)\n",
    "        self.dropout = nn.Dropout(p=0.50)\n",
    "        self.fc = nn.Linear(embed_dim, num_class)\n",
    "        self.init_weights()\n",
    "\n",
    "    def init_weights(self):\n",
    "        initrange = 0.5\n",
    "        self.embedding.weight.data.uniform_(-initrange, initrange)\n",
    "        self.fc.weight.data.uniform_(-initrange, initrange)\n",
    "        self.fc.bias.data.zero_()\n",
    "\n",
    "    def forward(self, text, offsets):\n",
    "        embedded = self.embedding(text, offsets)\n",
    "        embedded = self.dropout(embedded)\n",
    "        return self.fc(embedded)"
   ]
  },
  {
   "cell_type": "code",
   "execution_count": 7,
   "metadata": {},
   "outputs": [],
   "source": [
    "num_class = len(set([label for (text, label) in iter_data]))\n",
    "vocab_size = len(vocab)\n",
    "emsize = 128\n",
    "model = TextClassificationModel(vocab_size, emsize, num_class).to(device)"
   ]
  },
  {
   "cell_type": "code",
   "execution_count": 27,
   "metadata": {},
   "outputs": [
    {
     "name": "stdout",
     "output_type": "stream",
     "text": [
      "TextClassificationModel(\n",
      "  (embedding): EmbeddingBag(64964, 128, mode=mean)\n",
      "  (dropout): Dropout(p=0.5, inplace=False)\n",
      "  (fc): Linear(in_features=128, out_features=20, bias=True)\n",
      ")\n"
     ]
    }
   ],
   "source": [
    "print(model)\n"
   ]
  },
  {
   "cell_type": "code",
   "execution_count": 8,
   "metadata": {},
   "outputs": [],
   "source": [
    "import time\n",
    "train_acc_list =[]\n",
    "train_loss_list =[]\n",
    "\n",
    "def train(dataloader):\n",
    "    model.train()\n",
    "    total_acc, total_count = 0, 0\n",
    "    log_interval = 50\n",
    "    start_time = time.time()\n",
    "\n",
    "    for idx, (label, text, offsets) in enumerate(dataloader):\n",
    "        optimizer.zero_grad()\n",
    "        predited_label = model(text, offsets)\n",
    "        loss = criterion(predited_label, label)\n",
    "        loss.backward()\n",
    "        torch.nn.utils.clip_grad_norm_(model.parameters(), 0.1)\n",
    "        optimizer.step()\n",
    "        total_acc += (predited_label.argmax(1) == label).sum().item()\n",
    "        total_count += label.size(0)\n",
    "        if idx % log_interval == 0 and idx > 0:\n",
    "            elapsed = time.time() - start_time\n",
    "            print('| epoch {:3d} | {:5d}/{:5d} batches '\n",
    "                  '| accuracy {:8.3f}'.format(epoch, idx, len(dataloader),\n",
    "                                              total_acc/total_count))\n",
    "            total_acc, total_count = 0, 0\n",
    "            start_time = time.time()\n",
    "    train_acc_list.append(total_acc/total_count)\n",
    "    train_loss_list.append(loss)\n",
    "\n",
    "def evaluate(dataloader):\n",
    "    model.eval()\n",
    "    total_acc, total_count = 0, 0\n",
    "\n",
    "    with torch.no_grad():\n",
    "        for idx, (label, text, offsets) in enumerate(dataloader):\n",
    "            predited_label = model(text, offsets)\n",
    "            loss = criterion(predited_label, label)\n",
    "            total_acc += (predited_label.argmax(1) == label).sum().item()\n",
    "            total_count += label.size(0)\n",
    "    return total_acc/total_count , loss"
   ]
  },
  {
   "cell_type": "code",
   "execution_count": 9,
   "metadata": {},
   "outputs": [
    {
     "name": "stdout",
     "output_type": "stream",
     "text": [
      "| epoch   1 |    50/  445 batches | accuracy    0.237\n",
      "| epoch   1 |   100/  445 batches | accuracy    0.352\n",
      "| epoch   1 |   150/  445 batches | accuracy    0.404\n",
      "| epoch   1 |   200/  445 batches | accuracy    0.476\n",
      "| epoch   1 |   250/  445 batches | accuracy    0.482\n",
      "| epoch   1 |   300/  445 batches | accuracy    0.522\n",
      "| epoch   1 |   350/  445 batches | accuracy    0.526\n",
      "| epoch   1 |   400/  445 batches | accuracy    0.544\n",
      "-----------------------------------------------------------\n",
      "| end of epoch   1 | time: 53.56s | valid accuracy    0.653\n",
      "-----------------------------------------------------------\n",
      "| epoch   2 |    50/  445 batches | accuracy    0.684\n",
      "| epoch   2 |   100/  445 batches | accuracy    0.667\n",
      "| epoch   2 |   150/  445 batches | accuracy    0.682\n",
      "| epoch   2 |   200/  445 batches | accuracy    0.686\n",
      "| epoch   2 |   250/  445 batches | accuracy    0.699\n",
      "| epoch   2 |   300/  445 batches | accuracy    0.690\n",
      "| epoch   2 |   350/  445 batches | accuracy    0.671\n",
      "| epoch   2 |   400/  445 batches | accuracy    0.684\n",
      "-----------------------------------------------------------\n",
      "| end of epoch   2 | time: 63.76s | valid accuracy    0.748\n",
      "-----------------------------------------------------------\n",
      "| epoch   3 |    50/  445 batches | accuracy    0.770\n",
      "| epoch   3 |   100/  445 batches | accuracy    0.762\n",
      "| epoch   3 |   150/  445 batches | accuracy    0.782\n",
      "| epoch   3 |   200/  445 batches | accuracy    0.776\n",
      "| epoch   3 |   250/  445 batches | accuracy    0.784\n",
      "| epoch   3 |   300/  445 batches | accuracy    0.777\n",
      "| epoch   3 |   350/  445 batches | accuracy    0.767\n",
      "| epoch   3 |   400/  445 batches | accuracy    0.761\n",
      "-----------------------------------------------------------\n",
      "| end of epoch   3 | time: 62.59s | valid accuracy    0.753\n",
      "-----------------------------------------------------------\n",
      "| epoch   4 |    50/  445 batches | accuracy    0.835\n",
      "| epoch   4 |   100/  445 batches | accuracy    0.837\n",
      "| epoch   4 |   150/  445 batches | accuracy    0.836\n",
      "| epoch   4 |   200/  445 batches | accuracy    0.817\n",
      "| epoch   4 |   250/  445 batches | accuracy    0.823\n",
      "| epoch   4 |   300/  445 batches | accuracy    0.828\n",
      "| epoch   4 |   350/  445 batches | accuracy    0.828\n",
      "| epoch   4 |   400/  445 batches | accuracy    0.833\n",
      "-----------------------------------------------------------\n",
      "| end of epoch   4 | time: 61.71s | valid accuracy    0.748\n",
      "-----------------------------------------------------------\n",
      "| epoch   5 |    50/  445 batches | accuracy    0.885\n",
      "| epoch   5 |   100/  445 batches | accuracy    0.883\n",
      "| epoch   5 |   150/  445 batches | accuracy    0.900\n",
      "| epoch   5 |   200/  445 batches | accuracy    0.895\n",
      "| epoch   5 |   250/  445 batches | accuracy    0.900\n",
      "| epoch   5 |   300/  445 batches | accuracy    0.924\n",
      "| epoch   5 |   350/  445 batches | accuracy    0.912\n",
      "| epoch   5 |   400/  445 batches | accuracy    0.922\n",
      "-----------------------------------------------------------\n",
      "| end of epoch   5 | time: 60.05s | valid accuracy    0.782\n",
      "-----------------------------------------------------------\n",
      "| epoch   6 |    50/  445 batches | accuracy    0.926\n",
      "| epoch   6 |   100/  445 batches | accuracy    0.933\n",
      "| epoch   6 |   150/  445 batches | accuracy    0.918\n",
      "| epoch   6 |   200/  445 batches | accuracy    0.923\n",
      "| epoch   6 |   250/  445 batches | accuracy    0.938\n",
      "| epoch   6 |   300/  445 batches | accuracy    0.942\n",
      "| epoch   6 |   350/  445 batches | accuracy    0.924\n",
      "| epoch   6 |   400/  445 batches | accuracy    0.941\n",
      "-----------------------------------------------------------\n",
      "| end of epoch   6 | time: 75.50s | valid accuracy    0.789\n",
      "-----------------------------------------------------------\n",
      "| epoch   7 |    50/  445 batches | accuracy    0.942\n",
      "| epoch   7 |   100/  445 batches | accuracy    0.944\n",
      "| epoch   7 |   150/  445 batches | accuracy    0.953\n",
      "| epoch   7 |   200/  445 batches | accuracy    0.941\n",
      "| epoch   7 |   250/  445 batches | accuracy    0.950\n",
      "| epoch   7 |   300/  445 batches | accuracy    0.943\n",
      "| epoch   7 |   350/  445 batches | accuracy    0.948\n",
      "| epoch   7 |   400/  445 batches | accuracy    0.948\n",
      "-----------------------------------------------------------\n",
      "| end of epoch   7 | time: 89.79s | valid accuracy    0.805\n",
      "-----------------------------------------------------------\n",
      "| epoch   8 |    50/  445 batches | accuracy    0.967\n",
      "| epoch   8 |   100/  445 batches | accuracy    0.960\n",
      "| epoch   8 |   150/  445 batches | accuracy    0.958\n",
      "| epoch   8 |   200/  445 batches | accuracy    0.966\n",
      "| epoch   8 |   250/  445 batches | accuracy    0.958\n",
      "| epoch   8 |   300/  445 batches | accuracy    0.951\n",
      "| epoch   8 |   350/  445 batches | accuracy    0.956\n",
      "| epoch   8 |   400/  445 batches | accuracy    0.952\n",
      "-----------------------------------------------------------\n",
      "| end of epoch   8 | time: 77.56s | valid accuracy    0.806\n",
      "-----------------------------------------------------------\n",
      "| epoch   9 |    50/  445 batches | accuracy    0.966\n",
      "| epoch   9 |   100/  445 batches | accuracy    0.963\n",
      "| epoch   9 |   150/  445 batches | accuracy    0.961\n",
      "| epoch   9 |   200/  445 batches | accuracy    0.949\n",
      "| epoch   9 |   250/  445 batches | accuracy    0.953\n",
      "| epoch   9 |   300/  445 batches | accuracy    0.960\n",
      "| epoch   9 |   350/  445 batches | accuracy    0.963\n",
      "| epoch   9 |   400/  445 batches | accuracy    0.953\n",
      "-----------------------------------------------------------\n",
      "| end of epoch   9 | time: 73.61s | valid accuracy    0.812\n",
      "-----------------------------------------------------------\n",
      "| epoch  10 |    50/  445 batches | accuracy    0.966\n",
      "| epoch  10 |   100/  445 batches | accuracy    0.966\n",
      "| epoch  10 |   150/  445 batches | accuracy    0.960\n",
      "| epoch  10 |   200/  445 batches | accuracy    0.954\n",
      "| epoch  10 |   250/  445 batches | accuracy    0.959\n",
      "| epoch  10 |   300/  445 batches | accuracy    0.964\n",
      "| epoch  10 |   350/  445 batches | accuracy    0.956\n",
      "| epoch  10 |   400/  445 batches | accuracy    0.958\n",
      "-----------------------------------------------------------\n",
      "| end of epoch  10 | time: 74.94s | valid accuracy    0.816\n",
      "-----------------------------------------------------------\n",
      "| epoch  11 |    50/  445 batches | accuracy    0.970\n",
      "| epoch  11 |   100/  445 batches | accuracy    0.958\n",
      "| epoch  11 |   150/  445 batches | accuracy    0.976\n",
      "| epoch  11 |   200/  445 batches | accuracy    0.973\n",
      "| epoch  11 |   250/  445 batches | accuracy    0.960\n",
      "| epoch  11 |   300/  445 batches | accuracy    0.966\n",
      "| epoch  11 |   350/  445 batches | accuracy    0.966\n",
      "| epoch  11 |   400/  445 batches | accuracy    0.962\n",
      "-----------------------------------------------------------\n",
      "| end of epoch  11 | time: 79.87s | valid accuracy    0.818\n",
      "-----------------------------------------------------------\n",
      "| epoch  12 |    50/  445 batches | accuracy    0.969\n",
      "| epoch  12 |   100/  445 batches | accuracy    0.973\n",
      "| epoch  12 |   150/  445 batches | accuracy    0.974\n",
      "| epoch  12 |   200/  445 batches | accuracy    0.971\n",
      "| epoch  12 |   250/  445 batches | accuracy    0.979\n",
      "| epoch  12 |   300/  445 batches | accuracy    0.976\n",
      "| epoch  12 |   350/  445 batches | accuracy    0.971\n",
      "| epoch  12 |   400/  445 batches | accuracy    0.971\n",
      "-----------------------------------------------------------\n",
      "| end of epoch  12 | time: 82.18s | valid accuracy    0.810\n",
      "-----------------------------------------------------------\n",
      "| epoch  13 |    50/  445 batches | accuracy    0.971\n",
      "| epoch  13 |   100/  445 batches | accuracy    0.972\n",
      "| epoch  13 |   150/  445 batches | accuracy    0.977\n",
      "| epoch  13 |   200/  445 batches | accuracy    0.972\n",
      "| epoch  13 |   250/  445 batches | accuracy    0.973\n",
      "| epoch  13 |   300/  445 batches | accuracy    0.974\n",
      "| epoch  13 |   350/  445 batches | accuracy    0.976\n",
      "| epoch  13 |   400/  445 batches | accuracy    0.971\n",
      "-----------------------------------------------------------\n",
      "| end of epoch  13 | time: 82.03s | valid accuracy    0.812\n",
      "-----------------------------------------------------------\n",
      "| epoch  14 |    50/  445 batches | accuracy    0.975\n",
      "| epoch  14 |   100/  445 batches | accuracy    0.973\n",
      "| epoch  14 |   150/  445 batches | accuracy    0.984\n",
      "| epoch  14 |   200/  445 batches | accuracy    0.972\n",
      "| epoch  14 |   250/  445 batches | accuracy    0.976\n"
     ]
    },
    {
     "name": "stdout",
     "output_type": "stream",
     "text": [
      "| epoch  14 |   300/  445 batches | accuracy    0.986\n",
      "| epoch  14 |   350/  445 batches | accuracy    0.973\n",
      "| epoch  14 |   400/  445 batches | accuracy    0.979\n",
      "-----------------------------------------------------------\n",
      "| end of epoch  14 | time: 82.38s | valid accuracy    0.812\n",
      "-----------------------------------------------------------\n",
      "| epoch  15 |    50/  445 batches | accuracy    0.973\n",
      "| epoch  15 |   100/  445 batches | accuracy    0.976\n",
      "| epoch  15 |   150/  445 batches | accuracy    0.976\n",
      "| epoch  15 |   200/  445 batches | accuracy    0.973\n",
      "| epoch  15 |   250/  445 batches | accuracy    0.975\n",
      "| epoch  15 |   300/  445 batches | accuracy    0.975\n",
      "| epoch  15 |   350/  445 batches | accuracy    0.975\n",
      "| epoch  15 |   400/  445 batches | accuracy    0.968\n",
      "-----------------------------------------------------------\n",
      "| end of epoch  15 | time: 81.90s | valid accuracy    0.812\n",
      "-----------------------------------------------------------\n"
     ]
    }
   ],
   "source": [
    "# Hyperparameters\n",
    "EPOCHS = 15 # epoch\n",
    "LR = 0.85 # learning rate\n",
    "BATCH_SIZE = 32 # batch size for training\n",
    "\n",
    "criterion = torch.nn.CrossEntropyLoss()\n",
    "optimizer = torch.optim.Adam(model.parameters(), lr=LR)\n",
    "scheduler = torch.optim.lr_scheduler.StepLR(optimizer, 1.0, gamma=0.1)\n",
    "total_accu = None\n",
    "\n",
    "num_train = int(len(iter_data) * 0.80)\n",
    "\n",
    "train_dataset, test_dataset = random_split(iter_data, [num_train, len(iter_data) - num_train])\n",
    "\n",
    "num_train = int(len(train_dataset) * 0.95)\n",
    "\n",
    "split_train_, split_valid_ = random_split(train_dataset, [num_train, len(train_dataset) - num_train])\n",
    "\n",
    "train_dataloader = DataLoader(split_train_, batch_size=BATCH_SIZE,\n",
    "                              shuffle=True, collate_fn=collate_batch)\n",
    "valid_dataloader = DataLoader(split_valid_, batch_size=BATCH_SIZE,\n",
    "                              shuffle=True, collate_fn=collate_batch)\n",
    "test_dataloader = DataLoader(test_dataset, batch_size=BATCH_SIZE,\n",
    "                             shuffle=True, collate_fn=collate_batch)\n",
    "\n",
    "val_acc_list = []\n",
    "val_loss_list = []\n",
    "\n",
    "for epoch in range(1, EPOCHS + 1):\n",
    "    epoch_start_time = time.time()\n",
    "    train(train_dataloader)\n",
    "    accu_val , val_loss = evaluate(valid_dataloader)\n",
    "    val_acc_list.append(accu_val)\n",
    "    val_loss_list.append(val_loss)\n",
    "    if total_accu is not None and total_accu > accu_val:\n",
    "        scheduler.step()\n",
    "    else:\n",
    "        total_accu = accu_val\n",
    "    print('-' * 59)\n",
    "    print('| end of epoch {:3d} | time: {:5.2f}s | '\n",
    "          'valid accuracy {:8.3f}'.format(epoch,\n",
    "                                           time.time() - epoch_start_time,\n",
    "                                           accu_val ))\n",
    "    print('-' * 59)"
   ]
  },
  {
   "cell_type": "code",
   "execution_count": 11,
   "metadata": {},
   "outputs": [
    {
     "name": "stdout",
     "output_type": "stream",
     "text": [
      "Checking the results of test dataset.\n",
      "test accuracy    0.816\n"
     ]
    }
   ],
   "source": [
    "print('Checking the results of test dataset.')\n",
    "accu_test , loss = evaluate(test_dataloader)\n",
    "print('test accuracy {:8.3f}'.format(accu_test))"
   ]
  },
  {
   "cell_type": "markdown",
   "metadata": {},
   "source": [
    "# Visualization"
   ]
  },
  {
   "cell_type": "code",
   "execution_count": 16,
   "metadata": {},
   "outputs": [
    {
     "data": {
      "image/png": "[encoded data removed]",
      "text/plain": [
       "<Figure size 432x288 with 1 Axes>"
      ]
     },
     "metadata": {
      "needs_background": "light"
     },
     "output_type": "display_data"
    }
   ],
   "source": [
    "import matplotlib.pyplot as plt\n",
    "\n",
    "def plot_graphs():\n",
    "    plt.plot(train_acc_list)\n",
    "    plt.plot(val_acc_list)\n",
    "    plt.xlabel(\"Epochs\")\n",
    "    plt.ylabel(\"accuracy\")\n",
    "    plt.legend([\"train_accuracy\",\"val_accuracy\"])\n",
    "    plt.show()\n",
    "  \n",
    "plot_graphs()"
   ]
  },
  {
   "cell_type": "code",
   "execution_count": 24,
   "metadata": {},
   "outputs": [
    {
     "data": {
      "image/png": "[encoded data removed]",
      "text/plain": [
       "<Figure size 432x288 with 1 Axes>"
      ]
     },
     "metadata": {
      "needs_background": "light"
     },
     "output_type": "display_data"
    }
   ],
   "source": [
    "def plot_graphs():\n",
    "    plt.plot(train_loss_list)\n",
    "    plt.plot(val_loss_list)\n",
    "    plt.xlabel(\"Epochs\")\n",
    "    plt.ylabel(\"accuracy\")\n",
    "    plt.legend([\"train_loss\",\"val_loss\"])\n",
    "    plt.show()\n",
    "  \n",
    "plot_graphs()"
   ]
  },
  {
   "cell_type": "code",
   "execution_count": 23,
   "metadata": {},
   "outputs": [],
   "source": []
  },
  {
   "cell_type": "code",
   "execution_count": null,
   "metadata": {},
   "outputs": [],
   "source": []
  }
 ],
 "metadata": {
  "kernelspec": {
   "display_name": "Python 3",
   "language": "python",
   "name": "python3"
  },
  "language_info": {
   "codemirror_mode": {
    "name": "ipython",
    "version": 3
   },
   "file_extension": ".py",
   "mimetype": "text/x-python",
   "name": "python",
   "nbconvert_exporter": "python",
   "pygments_lexer": "ipython3",
   "version": "3.8.5"
  }
 },
 "nbformat": 4,
 "nbformat_minor": 4
}
