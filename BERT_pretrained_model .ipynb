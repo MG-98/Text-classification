{
  "nbformat": 4,
  "nbformat_minor": 0,
  "metadata": {
    "kernelspec": {
      "display_name": "Python 3",
      "language": "python",
      "name": "python3"
    },
    "language_info": {
      "codemirror_mode": {
        "name": "ipython",
        "version": 3
      },
      "file_extension": ".py",
      "mimetype": "text/x-python",
      "name": "python",
      "nbconvert_exporter": "python",
      "pygments_lexer": "ipython3",
      "version": "3.8.5"
    },
    "colab": {
      "name": "BERT pretrained model.ipynb",
      "provenance": [],
      "collapsed_sections": []
    },
    "accelerator": "GPU",
    "widgets": {
      "application/vnd.jupyter.widget-state+json": {
        "a84a7199daee4369ac0bcc8b3a527b7a": {
          "model_module": "@jupyter-widgets/controls",
          "model_name": "HBoxModel",
          "state": {
            "_view_name": "HBoxView",
            "_dom_classes": [],
            "_model_name": "HBoxModel",
            "_view_module": "@jupyter-widgets/controls",
            "_model_module_version": "1.5.0",
            "_view_count": null,
            "_view_module_version": "1.5.0",
            "box_style": "",
            "layout": "IPY_MODEL_75f6e14be7264ea89dd28b98e88056bf",
            "_model_module": "@jupyter-widgets/controls",
            "children": [
              "IPY_MODEL_ae2682a5d10a46cba2665dcccce1756f",
              "IPY_MODEL_88d6c416e0854673b72ce5a308647764"
            ]
          }
        },
        "75f6e14be7264ea89dd28b98e88056bf": {
          "model_module": "@jupyter-widgets/base",
          "model_name": "LayoutModel",
          "state": {
            "_view_name": "LayoutView",
            "grid_template_rows": null,
            "right": null,
            "justify_content": null,
            "_view_module": "@jupyter-widgets/base",
            "overflow": null,
            "_model_module_version": "1.2.0",
            "_view_count": null,
            "flex_flow": null,
            "width": null,
            "min_width": null,
            "border": null,
            "align_items": null,
            "bottom": null,
            "_model_module": "@jupyter-widgets/base",
            "top": null,
            "grid_column": null,
            "overflow_y": null,
            "overflow_x": null,
            "grid_auto_flow": null,
            "grid_area": null,
            "grid_template_columns": null,
            "flex": null,
            "_model_name": "LayoutModel",
            "justify_items": null,
            "grid_row": null,
            "max_height": null,
            "align_content": null,
            "visibility": null,
            "align_self": null,
            "height": null,
            "min_height": null,
            "padding": null,
            "grid_auto_rows": null,
            "grid_gap": null,
            "max_width": null,
            "order": null,
            "_view_module_version": "1.2.0",
            "grid_template_areas": null,
            "object_position": null,
            "object_fit": null,
            "grid_auto_columns": null,
            "margin": null,
            "display": null,
            "left": null
          }
        },
        "ae2682a5d10a46cba2665dcccce1756f": {
          "model_module": "@jupyter-widgets/controls",
          "model_name": "FloatProgressModel",
          "state": {
            "_view_name": "ProgressView",
            "style": "IPY_MODEL_34c1fbdde52b4e249f911a45f81002db",
            "_dom_classes": [],
            "description": "Downloading: 100%",
            "_model_name": "FloatProgressModel",
            "bar_style": "success",
            "max": 231508,
            "_view_module": "@jupyter-widgets/controls",
            "_model_module_version": "1.5.0",
            "value": 231508,
            "_view_count": null,
            "_view_module_version": "1.5.0",
            "orientation": "horizontal",
            "min": 0,
            "description_tooltip": null,
            "_model_module": "@jupyter-widgets/controls",
            "layout": "IPY_MODEL_3b47b83a52164ea19be49ff835fc5a8d"
          }
        },
        "88d6c416e0854673b72ce5a308647764": {
          "model_module": "@jupyter-widgets/controls",
          "model_name": "HTMLModel",
          "state": {
            "_view_name": "HTMLView",
            "style": "IPY_MODEL_3206c680c2294745a7f0760f6a5d658f",
            "_dom_classes": [],
            "description": "",
            "_model_name": "HTMLModel",
            "placeholder": "​",
            "_view_module": "@jupyter-widgets/controls",
            "_model_module_version": "1.5.0",
            "value": " 232k/232k [00:02&lt;00:00, 92.0kB/s]",
            "_view_count": null,
            "_view_module_version": "1.5.0",
            "description_tooltip": null,
            "_model_module": "@jupyter-widgets/controls",
            "layout": "IPY_MODEL_1504c4e4c2f34eb7b5b43b81652186c6"
          }
        },
        "34c1fbdde52b4e249f911a45f81002db": {
          "model_module": "@jupyter-widgets/controls",
          "model_name": "ProgressStyleModel",
          "state": {
            "_view_name": "StyleView",
            "_model_name": "ProgressStyleModel",
            "description_width": "initial",
            "_view_module": "@jupyter-widgets/base",
            "_model_module_version": "1.5.0",
            "_view_count": null,
            "_view_module_version": "1.2.0",
            "bar_color": null,
            "_model_module": "@jupyter-widgets/controls"
          }
        },
        "3b47b83a52164ea19be49ff835fc5a8d": {
          "model_module": "@jupyter-widgets/base",
          "model_name": "LayoutModel",
          "state": {
            "_view_name": "LayoutView",
            "grid_template_rows": null,
            "right": null,
            "justify_content": null,
            "_view_module": "@jupyter-widgets/base",
            "overflow": null,
            "_model_module_version": "1.2.0",
            "_view_count": null,
            "flex_flow": null,
            "width": null,
            "min_width": null,
            "border": null,
            "align_items": null,
            "bottom": null,
            "_model_module": "@jupyter-widgets/base",
            "top": null,
            "grid_column": null,
            "overflow_y": null,
            "overflow_x": null,
            "grid_auto_flow": null,
            "grid_area": null,
            "grid_template_columns": null,
            "flex": null,
            "_model_name": "LayoutModel",
            "justify_items": null,
            "grid_row": null,
            "max_height": null,
            "align_content": null,
            "visibility": null,
            "align_self": null,
            "height": null,
            "min_height": null,
            "padding": null,
            "grid_auto_rows": null,
            "grid_gap": null,
            "max_width": null,
            "order": null,
            "_view_module_version": "1.2.0",
            "grid_template_areas": null,
            "object_position": null,
            "object_fit": null,
            "grid_auto_columns": null,
            "margin": null,
            "display": null,
            "left": null
          }
        },
        "3206c680c2294745a7f0760f6a5d658f": {
          "model_module": "@jupyter-widgets/controls",
          "model_name": "DescriptionStyleModel",
          "state": {
            "_view_name": "StyleView",
            "_model_name": "DescriptionStyleModel",
            "description_width": "",
            "_view_module": "@jupyter-widgets/base",
            "_model_module_version": "1.5.0",
            "_view_count": null,
            "_view_module_version": "1.2.0",
            "_model_module": "@jupyter-widgets/controls"
          }
        },
        "1504c4e4c2f34eb7b5b43b81652186c6": {
          "model_module": "@jupyter-widgets/base",
          "model_name": "LayoutModel",
          "state": {
            "_view_name": "LayoutView",
            "grid_template_rows": null,
            "right": null,
            "justify_content": null,
            "_view_module": "@jupyter-widgets/base",
            "overflow": null,
            "_model_module_version": "1.2.0",
            "_view_count": null,
            "flex_flow": null,
            "width": null,
            "min_width": null,
            "border": null,
            "align_items": null,
            "bottom": null,
            "_model_module": "@jupyter-widgets/base",
            "top": null,
            "grid_column": null,
            "overflow_y": null,
            "overflow_x": null,
            "grid_auto_flow": null,
            "grid_area": null,
            "grid_template_columns": null,
            "flex": null,
            "_model_name": "LayoutModel",
            "justify_items": null,
            "grid_row": null,
            "max_height": null,
            "align_content": null,
            "visibility": null,
            "align_self": null,
            "height": null,
            "min_height": null,
            "padding": null,
            "grid_auto_rows": null,
            "grid_gap": null,
            "max_width": null,
            "order": null,
            "_view_module_version": "1.2.0",
            "grid_template_areas": null,
            "object_position": null,
            "object_fit": null,
            "grid_auto_columns": null,
            "margin": null,
            "display": null,
            "left": null
          }
        },
        "9ca58280d847466eb25171b203d1a80a": {
          "model_module": "@jupyter-widgets/controls",
          "model_name": "HBoxModel",
          "state": {
            "_view_name": "HBoxView",
            "_dom_classes": [],
            "_model_name": "HBoxModel",
            "_view_module": "@jupyter-widgets/controls",
            "_model_module_version": "1.5.0",
            "_view_count": null,
            "_view_module_version": "1.5.0",
            "box_style": "",
            "layout": "IPY_MODEL_cdb46ac03ed74cdebb997dffe8107f3b",
            "_model_module": "@jupyter-widgets/controls",
            "children": [
              "IPY_MODEL_78a94382cd4047a7875e0a19aa2ef842",
              "IPY_MODEL_dfe38ff9c3c34740bfec6ae2556ddf7a"
            ]
          }
        },
        "cdb46ac03ed74cdebb997dffe8107f3b": {
          "model_module": "@jupyter-widgets/base",
          "model_name": "LayoutModel",
          "state": {
            "_view_name": "LayoutView",
            "grid_template_rows": null,
            "right": null,
            "justify_content": null,
            "_view_module": "@jupyter-widgets/base",
            "overflow": null,
            "_model_module_version": "1.2.0",
            "_view_count": null,
            "flex_flow": null,
            "width": null,
            "min_width": null,
            "border": null,
            "align_items": null,
            "bottom": null,
            "_model_module": "@jupyter-widgets/base",
            "top": null,
            "grid_column": null,
            "overflow_y": null,
            "overflow_x": null,
            "grid_auto_flow": null,
            "grid_area": null,
            "grid_template_columns": null,
            "flex": null,
            "_model_name": "LayoutModel",
            "justify_items": null,
            "grid_row": null,
            "max_height": null,
            "align_content": null,
            "visibility": null,
            "align_self": null,
            "height": null,
            "min_height": null,
            "padding": null,
            "grid_auto_rows": null,
            "grid_gap": null,
            "max_width": null,
            "order": null,
            "_view_module_version": "1.2.0",
            "grid_template_areas": null,
            "object_position": null,
            "object_fit": null,
            "grid_auto_columns": null,
            "margin": null,
            "display": null,
            "left": null
          }
        },
        "78a94382cd4047a7875e0a19aa2ef842": {
          "model_module": "@jupyter-widgets/controls",
          "model_name": "FloatProgressModel",
          "state": {
            "_view_name": "ProgressView",
            "style": "IPY_MODEL_4de26c10ce0b401ca08cb78d340e2ec2",
            "_dom_classes": [],
            "description": "Downloading: 100%",
            "_model_name": "FloatProgressModel",
            "bar_style": "success",
            "max": 28,
            "_view_module": "@jupyter-widgets/controls",
            "_model_module_version": "1.5.0",
            "value": 28,
            "_view_count": null,
            "_view_module_version": "1.5.0",
            "orientation": "horizontal",
            "min": 0,
            "description_tooltip": null,
            "_model_module": "@jupyter-widgets/controls",
            "layout": "IPY_MODEL_aa4ae4b748804989832762a8ef587c54"
          }
        },
        "dfe38ff9c3c34740bfec6ae2556ddf7a": {
          "model_module": "@jupyter-widgets/controls",
          "model_name": "HTMLModel",
          "state": {
            "_view_name": "HTMLView",
            "style": "IPY_MODEL_cfe6b58d5c91493ca2798e468472e6a8",
            "_dom_classes": [],
            "description": "",
            "_model_name": "HTMLModel",
            "placeholder": "​",
            "_view_module": "@jupyter-widgets/controls",
            "_model_module_version": "1.5.0",
            "value": " 28.0/28.0 [00:00&lt;00:00, 29.4B/s]",
            "_view_count": null,
            "_view_module_version": "1.5.0",
            "description_tooltip": null,
            "_model_module": "@jupyter-widgets/controls",
            "layout": "IPY_MODEL_afc290267aa54670aa8247ec070d28e5"
          }
        },
        "4de26c10ce0b401ca08cb78d340e2ec2": {
          "model_module": "@jupyter-widgets/controls",
          "model_name": "ProgressStyleModel",
          "state": {
            "_view_name": "StyleView",
            "_model_name": "ProgressStyleModel",
            "description_width": "initial",
            "_view_module": "@jupyter-widgets/base",
            "_model_module_version": "1.5.0",
            "_view_count": null,
            "_view_module_version": "1.2.0",
            "bar_color": null,
            "_model_module": "@jupyter-widgets/controls"
          }
        },
        "aa4ae4b748804989832762a8ef587c54": {
          "model_module": "@jupyter-widgets/base",
          "model_name": "LayoutModel",
          "state": {
            "_view_name": "LayoutView",
            "grid_template_rows": null,
            "right": null,
            "justify_content": null,
            "_view_module": "@jupyter-widgets/base",
            "overflow": null,
            "_model_module_version": "1.2.0",
            "_view_count": null,
            "flex_flow": null,
            "width": null,
            "min_width": null,
            "border": null,
            "align_items": null,
            "bottom": null,
            "_model_module": "@jupyter-widgets/base",
            "top": null,
            "grid_column": null,
            "overflow_y": null,
            "overflow_x": null,
            "grid_auto_flow": null,
            "grid_area": null,
            "grid_template_columns": null,
            "flex": null,
            "_model_name": "LayoutModel",
            "justify_items": null,
            "grid_row": null,
            "max_height": null,
            "align_content": null,
            "visibility": null,
            "align_self": null,
            "height": null,
            "min_height": null,
            "padding": null,
            "grid_auto_rows": null,
            "grid_gap": null,
            "max_width": null,
            "order": null,
            "_view_module_version": "1.2.0",
            "grid_template_areas": null,
            "object_position": null,
            "object_fit": null,
            "grid_auto_columns": null,
            "margin": null,
            "display": null,
            "left": null
          }
        },
        "cfe6b58d5c91493ca2798e468472e6a8": {
          "model_module": "@jupyter-widgets/controls",
          "model_name": "DescriptionStyleModel",
          "state": {
            "_view_name": "StyleView",
            "_model_name": "DescriptionStyleModel",
            "description_width": "",
            "_view_module": "@jupyter-widgets/base",
            "_model_module_version": "1.5.0",
            "_view_count": null,
            "_view_module_version": "1.2.0",
            "_model_module": "@jupyter-widgets/controls"
          }
        },
        "afc290267aa54670aa8247ec070d28e5": {
          "model_module": "@jupyter-widgets/base",
          "model_name": "LayoutModel",
          "state": {
            "_view_name": "LayoutView",
            "grid_template_rows": null,
            "right": null,
            "justify_content": null,
            "_view_module": "@jupyter-widgets/base",
            "overflow": null,
            "_model_module_version": "1.2.0",
            "_view_count": null,
            "flex_flow": null,
            "width": null,
            "min_width": null,
            "border": null,
            "align_items": null,
            "bottom": null,
            "_model_module": "@jupyter-widgets/base",
            "top": null,
            "grid_column": null,
            "overflow_y": null,
            "overflow_x": null,
            "grid_auto_flow": null,
            "grid_area": null,
            "grid_template_columns": null,
            "flex": null,
            "_model_name": "LayoutModel",
            "justify_items": null,
            "grid_row": null,
            "max_height": null,
            "align_content": null,
            "visibility": null,
            "align_self": null,
            "height": null,
            "min_height": null,
            "padding": null,
            "grid_auto_rows": null,
            "grid_gap": null,
            "max_width": null,
            "order": null,
            "_view_module_version": "1.2.0",
            "grid_template_areas": null,
            "object_position": null,
            "object_fit": null,
            "grid_auto_columns": null,
            "margin": null,
            "display": null,
            "left": null
          }
        },
        "8cc996286bcd424e8510cffad37ad410": {
          "model_module": "@jupyter-widgets/controls",
          "model_name": "HBoxModel",
          "state": {
            "_view_name": "HBoxView",
            "_dom_classes": [],
            "_model_name": "HBoxModel",
            "_view_module": "@jupyter-widgets/controls",
            "_model_module_version": "1.5.0",
            "_view_count": null,
            "_view_module_version": "1.5.0",
            "box_style": "",
            "layout": "IPY_MODEL_b5d3dbc6af4548e2923c73c4f1c9ae82",
            "_model_module": "@jupyter-widgets/controls",
            "children": [
              "IPY_MODEL_17a1d81c197f4a82a3d7f2625fd65d0c",
              "IPY_MODEL_c787d7bb74964d5797deb8a6e1164376"
            ]
          }
        },
        "b5d3dbc6af4548e2923c73c4f1c9ae82": {
          "model_module": "@jupyter-widgets/base",
          "model_name": "LayoutModel",
          "state": {
            "_view_name": "LayoutView",
            "grid_template_rows": null,
            "right": null,
            "justify_content": null,
            "_view_module": "@jupyter-widgets/base",
            "overflow": null,
            "_model_module_version": "1.2.0",
            "_view_count": null,
            "flex_flow": null,
            "width": null,
            "min_width": null,
            "border": null,
            "align_items": null,
            "bottom": null,
            "_model_module": "@jupyter-widgets/base",
            "top": null,
            "grid_column": null,
            "overflow_y": null,
            "overflow_x": null,
            "grid_auto_flow": null,
            "grid_area": null,
            "grid_template_columns": null,
            "flex": null,
            "_model_name": "LayoutModel",
            "justify_items": null,
            "grid_row": null,
            "max_height": null,
            "align_content": null,
            "visibility": null,
            "align_self": null,
            "height": null,
            "min_height": null,
            "padding": null,
            "grid_auto_rows": null,
            "grid_gap": null,
            "max_width": null,
            "order": null,
            "_view_module_version": "1.2.0",
            "grid_template_areas": null,
            "object_position": null,
            "object_fit": null,
            "grid_auto_columns": null,
            "margin": null,
            "display": null,
            "left": null
          }
        },
        "17a1d81c197f4a82a3d7f2625fd65d0c": {
          "model_module": "@jupyter-widgets/controls",
          "model_name": "FloatProgressModel",
          "state": {
            "_view_name": "ProgressView",
            "style": "IPY_MODEL_517b8d21b4a7401682292b942f77a079",
            "_dom_classes": [],
            "description": "Downloading: 100%",
            "_model_name": "FloatProgressModel",
            "bar_style": "success",
            "max": 466062,
            "_view_module": "@jupyter-widgets/controls",
            "_model_module_version": "1.5.0",
            "value": 466062,
            "_view_count": null,
            "_view_module_version": "1.5.0",
            "orientation": "horizontal",
            "min": 0,
            "description_tooltip": null,
            "_model_module": "@jupyter-widgets/controls",
            "layout": "IPY_MODEL_47d3bda8bd2d421fb4602b1c03005a5d"
          }
        },
        "c787d7bb74964d5797deb8a6e1164376": {
          "model_module": "@jupyter-widgets/controls",
          "model_name": "HTMLModel",
          "state": {
            "_view_name": "HTMLView",
            "style": "IPY_MODEL_fef2b2be65534bb1b681227d367aea7f",
            "_dom_classes": [],
            "description": "",
            "_model_name": "HTMLModel",
            "placeholder": "​",
            "_view_module": "@jupyter-widgets/controls",
            "_model_module_version": "1.5.0",
            "value": " 466k/466k [00:00&lt;00:00, 2.33MB/s]",
            "_view_count": null,
            "_view_module_version": "1.5.0",
            "description_tooltip": null,
            "_model_module": "@jupyter-widgets/controls",
            "layout": "IPY_MODEL_62bf0aeb803a4fe39753ea88efcbcf57"
          }
        },
        "517b8d21b4a7401682292b942f77a079": {
          "model_module": "@jupyter-widgets/controls",
          "model_name": "ProgressStyleModel",
          "state": {
            "_view_name": "StyleView",
            "_model_name": "ProgressStyleModel",
            "description_width": "initial",
            "_view_module": "@jupyter-widgets/base",
            "_model_module_version": "1.5.0",
            "_view_count": null,
            "_view_module_version": "1.2.0",
            "bar_color": null,
            "_model_module": "@jupyter-widgets/controls"
          }
        },
        "47d3bda8bd2d421fb4602b1c03005a5d": {
          "model_module": "@jupyter-widgets/base",
          "model_name": "LayoutModel",
          "state": {
            "_view_name": "LayoutView",
            "grid_template_rows": null,
            "right": null,
            "justify_content": null,
            "_view_module": "@jupyter-widgets/base",
            "overflow": null,
            "_model_module_version": "1.2.0",
            "_view_count": null,
            "flex_flow": null,
            "width": null,
            "min_width": null,
            "border": null,
            "align_items": null,
            "bottom": null,
            "_model_module": "@jupyter-widgets/base",
            "top": null,
            "grid_column": null,
            "overflow_y": null,
            "overflow_x": null,
            "grid_auto_flow": null,
            "grid_area": null,
            "grid_template_columns": null,
            "flex": null,
            "_model_name": "LayoutModel",
            "justify_items": null,
            "grid_row": null,
            "max_height": null,
            "align_content": null,
            "visibility": null,
            "align_self": null,
            "height": null,
            "min_height": null,
            "padding": null,
            "grid_auto_rows": null,
            "grid_gap": null,
            "max_width": null,
            "order": null,
            "_view_module_version": "1.2.0",
            "grid_template_areas": null,
            "object_position": null,
            "object_fit": null,
            "grid_auto_columns": null,
            "margin": null,
            "display": null,
            "left": null
          }
        },
        "fef2b2be65534bb1b681227d367aea7f": {
          "model_module": "@jupyter-widgets/controls",
          "model_name": "DescriptionStyleModel",
          "state": {
            "_view_name": "StyleView",
            "_model_name": "DescriptionStyleModel",
            "description_width": "",
            "_view_module": "@jupyter-widgets/base",
            "_model_module_version": "1.5.0",
            "_view_count": null,
            "_view_module_version": "1.2.0",
            "_model_module": "@jupyter-widgets/controls"
          }
        },
        "62bf0aeb803a4fe39753ea88efcbcf57": {
          "model_module": "@jupyter-widgets/base",
          "model_name": "LayoutModel",
          "state": {
            "_view_name": "LayoutView",
            "grid_template_rows": null,
            "right": null,
            "justify_content": null,
            "_view_module": "@jupyter-widgets/base",
            "overflow": null,
            "_model_module_version": "1.2.0",
            "_view_count": null,
            "flex_flow": null,
            "width": null,
            "min_width": null,
            "border": null,
            "align_items": null,
            "bottom": null,
            "_model_module": "@jupyter-widgets/base",
            "top": null,
            "grid_column": null,
            "overflow_y": null,
            "overflow_x": null,
            "grid_auto_flow": null,
            "grid_area": null,
            "grid_template_columns": null,
            "flex": null,
            "_model_name": "LayoutModel",
            "justify_items": null,
            "grid_row": null,
            "max_height": null,
            "align_content": null,
            "visibility": null,
            "align_self": null,
            "height": null,
            "min_height": null,
            "padding": null,
            "grid_auto_rows": null,
            "grid_gap": null,
            "max_width": null,
            "order": null,
            "_view_module_version": "1.2.0",
            "grid_template_areas": null,
            "object_position": null,
            "object_fit": null,
            "grid_auto_columns": null,
            "margin": null,
            "display": null,
            "left": null
          }
        },
        "0f27302f710c4910a2d27e479fca098b": {
          "model_module": "@jupyter-widgets/controls",
          "model_name": "HBoxModel",
          "state": {
            "_view_name": "HBoxView",
            "_dom_classes": [],
            "_model_name": "HBoxModel",
            "_view_module": "@jupyter-widgets/controls",
            "_model_module_version": "1.5.0",
            "_view_count": null,
            "_view_module_version": "1.5.0",
            "box_style": "",
            "layout": "IPY_MODEL_d4aa9159766a4e23874a5edc0e52658d",
            "_model_module": "@jupyter-widgets/controls",
            "children": [
              "IPY_MODEL_187290097d9b446ba24662b5200b6909",
              "IPY_MODEL_420a929d8098474695d4a15e748d2c23"
            ]
          }
        },
        "d4aa9159766a4e23874a5edc0e52658d": {
          "model_module": "@jupyter-widgets/base",
          "model_name": "LayoutModel",
          "state": {
            "_view_name": "LayoutView",
            "grid_template_rows": null,
            "right": null,
            "justify_content": null,
            "_view_module": "@jupyter-widgets/base",
            "overflow": null,
            "_model_module_version": "1.2.0",
            "_view_count": null,
            "flex_flow": null,
            "width": null,
            "min_width": null,
            "border": null,
            "align_items": null,
            "bottom": null,
            "_model_module": "@jupyter-widgets/base",
            "top": null,
            "grid_column": null,
            "overflow_y": null,
            "overflow_x": null,
            "grid_auto_flow": null,
            "grid_area": null,
            "grid_template_columns": null,
            "flex": null,
            "_model_name": "LayoutModel",
            "justify_items": null,
            "grid_row": null,
            "max_height": null,
            "align_content": null,
            "visibility": null,
            "align_self": null,
            "height": null,
            "min_height": null,
            "padding": null,
            "grid_auto_rows": null,
            "grid_gap": null,
            "max_width": null,
            "order": null,
            "_view_module_version": "1.2.0",
            "grid_template_areas": null,
            "object_position": null,
            "object_fit": null,
            "grid_auto_columns": null,
            "margin": null,
            "display": null,
            "left": null
          }
        },
        "187290097d9b446ba24662b5200b6909": {
          "model_module": "@jupyter-widgets/controls",
          "model_name": "FloatProgressModel",
          "state": {
            "_view_name": "ProgressView",
            "style": "IPY_MODEL_1f060f2e4c9641df9cf5b4a297090044",
            "_dom_classes": [],
            "description": "Downloading: 100%",
            "_model_name": "FloatProgressModel",
            "bar_style": "success",
            "max": 570,
            "_view_module": "@jupyter-widgets/controls",
            "_model_module_version": "1.5.0",
            "value": 570,
            "_view_count": null,
            "_view_module_version": "1.5.0",
            "orientation": "horizontal",
            "min": 0,
            "description_tooltip": null,
            "_model_module": "@jupyter-widgets/controls",
            "layout": "IPY_MODEL_a12c867f0764462c8e0fb5fc60e1f164"
          }
        },
        "420a929d8098474695d4a15e748d2c23": {
          "model_module": "@jupyter-widgets/controls",
          "model_name": "HTMLModel",
          "state": {
            "_view_name": "HTMLView",
            "style": "IPY_MODEL_470438e98d2d4806b23a4a206025def8",
            "_dom_classes": [],
            "description": "",
            "_model_name": "HTMLModel",
            "placeholder": "​",
            "_view_module": "@jupyter-widgets/controls",
            "_model_module_version": "1.5.0",
            "value": " 570/570 [00:00&lt;00:00, 3.24kB/s]",
            "_view_count": null,
            "_view_module_version": "1.5.0",
            "description_tooltip": null,
            "_model_module": "@jupyter-widgets/controls",
            "layout": "IPY_MODEL_91e399915bf14ea3b6b7aae96ecb6fe4"
          }
        },
        "1f060f2e4c9641df9cf5b4a297090044": {
          "model_module": "@jupyter-widgets/controls",
          "model_name": "ProgressStyleModel",
          "state": {
            "_view_name": "StyleView",
            "_model_name": "ProgressStyleModel",
            "description_width": "initial",
            "_view_module": "@jupyter-widgets/base",
            "_model_module_version": "1.5.0",
            "_view_count": null,
            "_view_module_version": "1.2.0",
            "bar_color": null,
            "_model_module": "@jupyter-widgets/controls"
          }
        },
        "a12c867f0764462c8e0fb5fc60e1f164": {
          "model_module": "@jupyter-widgets/base",
          "model_name": "LayoutModel",
          "state": {
            "_view_name": "LayoutView",
            "grid_template_rows": null,
            "right": null,
            "justify_content": null,
            "_view_module": "@jupyter-widgets/base",
            "overflow": null,
            "_model_module_version": "1.2.0",
            "_view_count": null,
            "flex_flow": null,
            "width": null,
            "min_width": null,
            "border": null,
            "align_items": null,
            "bottom": null,
            "_model_module": "@jupyter-widgets/base",
            "top": null,
            "grid_column": null,
            "overflow_y": null,
            "overflow_x": null,
            "grid_auto_flow": null,
            "grid_area": null,
            "grid_template_columns": null,
            "flex": null,
            "_model_name": "LayoutModel",
            "justify_items": null,
            "grid_row": null,
            "max_height": null,
            "align_content": null,
            "visibility": null,
            "align_self": null,
            "height": null,
            "min_height": null,
            "padding": null,
            "grid_auto_rows": null,
            "grid_gap": null,
            "max_width": null,
            "order": null,
            "_view_module_version": "1.2.0",
            "grid_template_areas": null,
            "object_position": null,
            "object_fit": null,
            "grid_auto_columns": null,
            "margin": null,
            "display": null,
            "left": null
          }
        },
        "470438e98d2d4806b23a4a206025def8": {
          "model_module": "@jupyter-widgets/controls",
          "model_name": "DescriptionStyleModel",
          "state": {
            "_view_name": "StyleView",
            "_model_name": "DescriptionStyleModel",
            "description_width": "",
            "_view_module": "@jupyter-widgets/base",
            "_model_module_version": "1.5.0",
            "_view_count": null,
            "_view_module_version": "1.2.0",
            "_model_module": "@jupyter-widgets/controls"
          }
        },
        "91e399915bf14ea3b6b7aae96ecb6fe4": {
          "model_module": "@jupyter-widgets/base",
          "model_name": "LayoutModel",
          "state": {
            "_view_name": "LayoutView",
            "grid_template_rows": null,
            "right": null,
            "justify_content": null,
            "_view_module": "@jupyter-widgets/base",
            "overflow": null,
            "_model_module_version": "1.2.0",
            "_view_count": null,
            "flex_flow": null,
            "width": null,
            "min_width": null,
            "border": null,
            "align_items": null,
            "bottom": null,
            "_model_module": "@jupyter-widgets/base",
            "top": null,
            "grid_column": null,
            "overflow_y": null,
            "overflow_x": null,
            "grid_auto_flow": null,
            "grid_area": null,
            "grid_template_columns": null,
            "flex": null,
            "_model_name": "LayoutModel",
            "justify_items": null,
            "grid_row": null,
            "max_height": null,
            "align_content": null,
            "visibility": null,
            "align_self": null,
            "height": null,
            "min_height": null,
            "padding": null,
            "grid_auto_rows": null,
            "grid_gap": null,
            "max_width": null,
            "order": null,
            "_view_module_version": "1.2.0",
            "grid_template_areas": null,
            "object_position": null,
            "object_fit": null,
            "grid_auto_columns": null,
            "margin": null,
            "display": null,
            "left": null
          }
        },
        "8a7688dc7f234f8ba7e8dab876789473": {
          "model_module": "@jupyter-widgets/controls",
          "model_name": "HBoxModel",
          "state": {
            "_view_name": "HBoxView",
            "_dom_classes": [],
            "_model_name": "HBoxModel",
            "_view_module": "@jupyter-widgets/controls",
            "_model_module_version": "1.5.0",
            "_view_count": null,
            "_view_module_version": "1.5.0",
            "box_style": "",
            "layout": "IPY_MODEL_6e51acf87655475d841b84533eccbe93",
            "_model_module": "@jupyter-widgets/controls",
            "children": [
              "IPY_MODEL_e80f74724eaa45e9a95996e281d7c55a",
              "IPY_MODEL_d01c3fe79c674c208489047000925604"
            ]
          }
        },
        "6e51acf87655475d841b84533eccbe93": {
          "model_module": "@jupyter-widgets/base",
          "model_name": "LayoutModel",
          "state": {
            "_view_name": "LayoutView",
            "grid_template_rows": null,
            "right": null,
            "justify_content": null,
            "_view_module": "@jupyter-widgets/base",
            "overflow": null,
            "_model_module_version": "1.2.0",
            "_view_count": null,
            "flex_flow": null,
            "width": null,
            "min_width": null,
            "border": null,
            "align_items": null,
            "bottom": null,
            "_model_module": "@jupyter-widgets/base",
            "top": null,
            "grid_column": null,
            "overflow_y": null,
            "overflow_x": null,
            "grid_auto_flow": null,
            "grid_area": null,
            "grid_template_columns": null,
            "flex": null,
            "_model_name": "LayoutModel",
            "justify_items": null,
            "grid_row": null,
            "max_height": null,
            "align_content": null,
            "visibility": null,
            "align_self": null,
            "height": null,
            "min_height": null,
            "padding": null,
            "grid_auto_rows": null,
            "grid_gap": null,
            "max_width": null,
            "order": null,
            "_view_module_version": "1.2.0",
            "grid_template_areas": null,
            "object_position": null,
            "object_fit": null,
            "grid_auto_columns": null,
            "margin": null,
            "display": null,
            "left": null
          }
        },
        "e80f74724eaa45e9a95996e281d7c55a": {
          "model_module": "@jupyter-widgets/controls",
          "model_name": "FloatProgressModel",
          "state": {
            "_view_name": "ProgressView",
            "style": "IPY_MODEL_66caed0b6f814eb2824404243206c508",
            "_dom_classes": [],
            "description": "Downloading: 100%",
            "_model_name": "FloatProgressModel",
            "bar_style": "success",
            "max": 440473133,
            "_view_module": "@jupyter-widgets/controls",
            "_model_module_version": "1.5.0",
            "value": 440473133,
            "_view_count": null,
            "_view_module_version": "1.5.0",
            "orientation": "horizontal",
            "min": 0,
            "description_tooltip": null,
            "_model_module": "@jupyter-widgets/controls",
            "layout": "IPY_MODEL_5dddb1a8e1e644d7815c4f2e8c9fb1fa"
          }
        },
        "d01c3fe79c674c208489047000925604": {
          "model_module": "@jupyter-widgets/controls",
          "model_name": "HTMLModel",
          "state": {
            "_view_name": "HTMLView",
            "style": "IPY_MODEL_5a45e5c697c2499ca1211c4c1dece845",
            "_dom_classes": [],
            "description": "",
            "_model_name": "HTMLModel",
            "placeholder": "​",
            "_view_module": "@jupyter-widgets/controls",
            "_model_module_version": "1.5.0",
            "value": " 440M/440M [00:09&lt;00:00, 48.1MB/s]",
            "_view_count": null,
            "_view_module_version": "1.5.0",
            "description_tooltip": null,
            "_model_module": "@jupyter-widgets/controls",
            "layout": "IPY_MODEL_a2d509bb6d444747b1aa1d25fa9b60ab"
          }
        },
        "66caed0b6f814eb2824404243206c508": {
          "model_module": "@jupyter-widgets/controls",
          "model_name": "ProgressStyleModel",
          "state": {
            "_view_name": "StyleView",
            "_model_name": "ProgressStyleModel",
            "description_width": "initial",
            "_view_module": "@jupyter-widgets/base",
            "_model_module_version": "1.5.0",
            "_view_count": null,
            "_view_module_version": "1.2.0",
            "bar_color": null,
            "_model_module": "@jupyter-widgets/controls"
          }
        },
        "5dddb1a8e1e644d7815c4f2e8c9fb1fa": {
          "model_module": "@jupyter-widgets/base",
          "model_name": "LayoutModel",
          "state": {
            "_view_name": "LayoutView",
            "grid_template_rows": null,
            "right": null,
            "justify_content": null,
            "_view_module": "@jupyter-widgets/base",
            "overflow": null,
            "_model_module_version": "1.2.0",
            "_view_count": null,
            "flex_flow": null,
            "width": null,
            "min_width": null,
            "border": null,
            "align_items": null,
            "bottom": null,
            "_model_module": "@jupyter-widgets/base",
            "top": null,
            "grid_column": null,
            "overflow_y": null,
            "overflow_x": null,
            "grid_auto_flow": null,
            "grid_area": null,
            "grid_template_columns": null,
            "flex": null,
            "_model_name": "LayoutModel",
            "justify_items": null,
            "grid_row": null,
            "max_height": null,
            "align_content": null,
            "visibility": null,
            "align_self": null,
            "height": null,
            "min_height": null,
            "padding": null,
            "grid_auto_rows": null,
            "grid_gap": null,
            "max_width": null,
            "order": null,
            "_view_module_version": "1.2.0",
            "grid_template_areas": null,
            "object_position": null,
            "object_fit": null,
            "grid_auto_columns": null,
            "margin": null,
            "display": null,
            "left": null
          }
        },
        "5a45e5c697c2499ca1211c4c1dece845": {
          "model_module": "@jupyter-widgets/controls",
          "model_name": "DescriptionStyleModel",
          "state": {
            "_view_name": "StyleView",
            "_model_name": "DescriptionStyleModel",
            "description_width": "",
            "_view_module": "@jupyter-widgets/base",
            "_model_module_version": "1.5.0",
            "_view_count": null,
            "_view_module_version": "1.2.0",
            "_model_module": "@jupyter-widgets/controls"
          }
        },
        "a2d509bb6d444747b1aa1d25fa9b60ab": {
          "model_module": "@jupyter-widgets/base",
          "model_name": "LayoutModel",
          "state": {
            "_view_name": "LayoutView",
            "grid_template_rows": null,
            "right": null,
            "justify_content": null,
            "_view_module": "@jupyter-widgets/base",
            "overflow": null,
            "_model_module_version": "1.2.0",
            "_view_count": null,
            "flex_flow": null,
            "width": null,
            "min_width": null,
            "border": null,
            "align_items": null,
            "bottom": null,
            "_model_module": "@jupyter-widgets/base",
            "top": null,
            "grid_column": null,
            "overflow_y": null,
            "overflow_x": null,
            "grid_auto_flow": null,
            "grid_area": null,
            "grid_template_columns": null,
            "flex": null,
            "_model_name": "LayoutModel",
            "justify_items": null,
            "grid_row": null,
            "max_height": null,
            "align_content": null,
            "visibility": null,
            "align_self": null,
            "height": null,
            "min_height": null,
            "padding": null,
            "grid_auto_rows": null,
            "grid_gap": null,
            "max_width": null,
            "order": null,
            "_view_module_version": "1.2.0",
            "grid_template_areas": null,
            "object_position": null,
            "object_fit": null,
            "grid_auto_columns": null,
            "margin": null,
            "display": null,
            "left": null
          }
        }
      }
    }
  },
  "cells": [
    {
      "cell_type": "code",
      "metadata": {
        "colab": {
          "base_uri": "https://localhost:8080/"
        },
        "id": "enBZNNwEZIbL",
        "outputId": "7aa91479-e1c6-4d96-c484-1b6c7e9edcc2"
      },
      "source": [
        "! pip install transformers"
      ],
      "execution_count": null,
      "outputs": [
        {
          "output_type": "stream",
          "text": [
            "Collecting transformers\n",
            "\u001b[?25l  Downloading https://files.pythonhosted.org/packages/d5/43/cfe4ee779bbd6a678ac6a97c5a5cdeb03c35f9eaebbb9720b036680f9a2d/transformers-4.6.1-py3-none-any.whl (2.2MB)\n",
            "\r\u001b[K     |▏                               | 10kB 22.1MB/s eta 0:00:01\r\u001b[K     |▎                               | 20kB 29.0MB/s eta 0:00:01\r\u001b[K     |▍                               | 30kB 20.6MB/s eta 0:00:01\r\u001b[K     |▋                               | 40kB 16.5MB/s eta 0:00:01\r\u001b[K     |▊                               | 51kB 8.5MB/s eta 0:00:01\r\u001b[K     |▉                               | 61kB 8.8MB/s eta 0:00:01\r\u001b[K     |█                               | 71kB 9.0MB/s eta 0:00:01\r\u001b[K     |█▏                              | 81kB 9.2MB/s eta 0:00:01\r\u001b[K     |█▎                              | 92kB 10.0MB/s eta 0:00:01\r\u001b[K     |█▌                              | 102kB 8.1MB/s eta 0:00:01\r\u001b[K     |█▋                              | 112kB 8.1MB/s eta 0:00:01\r\u001b[K     |█▊                              | 122kB 8.1MB/s eta 0:00:01\r\u001b[K     |██                              | 133kB 8.1MB/s eta 0:00:01\r\u001b[K     |██                              | 143kB 8.1MB/s eta 0:00:01\r\u001b[K     |██▏                             | 153kB 8.1MB/s eta 0:00:01\r\u001b[K     |██▎                             | 163kB 8.1MB/s eta 0:00:01\r\u001b[K     |██▌                             | 174kB 8.1MB/s eta 0:00:01\r\u001b[K     |██▋                             | 184kB 8.1MB/s eta 0:00:01\r\u001b[K     |██▊                             | 194kB 8.1MB/s eta 0:00:01\r\u001b[K     |███                             | 204kB 8.1MB/s eta 0:00:01\r\u001b[K     |███                             | 215kB 8.1MB/s eta 0:00:01\r\u001b[K     |███▏                            | 225kB 8.1MB/s eta 0:00:01\r\u001b[K     |███▍                            | 235kB 8.1MB/s eta 0:00:01\r\u001b[K     |███▌                            | 245kB 8.1MB/s eta 0:00:01\r\u001b[K     |███▋                            | 256kB 8.1MB/s eta 0:00:01\r\u001b[K     |███▉                            | 266kB 8.1MB/s eta 0:00:01\r\u001b[K     |████                            | 276kB 8.1MB/s eta 0:00:01\r\u001b[K     |████                            | 286kB 8.1MB/s eta 0:00:01\r\u001b[K     |████▎                           | 296kB 8.1MB/s eta 0:00:01\r\u001b[K     |████▍                           | 307kB 8.1MB/s eta 0:00:01\r\u001b[K     |████▌                           | 317kB 8.1MB/s eta 0:00:01\r\u001b[K     |████▋                           | 327kB 8.1MB/s eta 0:00:01\r\u001b[K     |████▉                           | 337kB 8.1MB/s eta 0:00:01\r\u001b[K     |█████                           | 348kB 8.1MB/s eta 0:00:01\r\u001b[K     |█████                           | 358kB 8.1MB/s eta 0:00:01\r\u001b[K     |█████▎                          | 368kB 8.1MB/s eta 0:00:01\r\u001b[K     |█████▍                          | 378kB 8.1MB/s eta 0:00:01\r\u001b[K     |█████▌                          | 389kB 8.1MB/s eta 0:00:01\r\u001b[K     |█████▊                          | 399kB 8.1MB/s eta 0:00:01\r\u001b[K     |█████▉                          | 409kB 8.1MB/s eta 0:00:01\r\u001b[K     |██████                          | 419kB 8.1MB/s eta 0:00:01\r\u001b[K     |██████▏                         | 430kB 8.1MB/s eta 0:00:01\r\u001b[K     |██████▎                         | 440kB 8.1MB/s eta 0:00:01\r\u001b[K     |██████▍                         | 450kB 8.1MB/s eta 0:00:01\r\u001b[K     |██████▌                         | 460kB 8.1MB/s eta 0:00:01\r\u001b[K     |██████▊                         | 471kB 8.1MB/s eta 0:00:01\r\u001b[K     |██████▉                         | 481kB 8.1MB/s eta 0:00:01\r\u001b[K     |███████                         | 491kB 8.1MB/s eta 0:00:01\r\u001b[K     |███████▏                        | 501kB 8.1MB/s eta 0:00:01\r\u001b[K     |███████▎                        | 512kB 8.1MB/s eta 0:00:01\r\u001b[K     |███████▍                        | 522kB 8.1MB/s eta 0:00:01\r\u001b[K     |███████▋                        | 532kB 8.1MB/s eta 0:00:01\r\u001b[K     |███████▊                        | 542kB 8.1MB/s eta 0:00:01\r\u001b[K     |███████▉                        | 552kB 8.1MB/s eta 0:00:01\r\u001b[K     |████████                        | 563kB 8.1MB/s eta 0:00:01\r\u001b[K     |████████▏                       | 573kB 8.1MB/s eta 0:00:01\r\u001b[K     |████████▎                       | 583kB 8.1MB/s eta 0:00:01\r\u001b[K     |████████▌                       | 593kB 8.1MB/s eta 0:00:01\r\u001b[K     |████████▋                       | 604kB 8.1MB/s eta 0:00:01\r\u001b[K     |████████▊                       | 614kB 8.1MB/s eta 0:00:01\r\u001b[K     |████████▉                       | 624kB 8.1MB/s eta 0:00:01\r\u001b[K     |█████████                       | 634kB 8.1MB/s eta 0:00:01\r\u001b[K     |█████████▏                      | 645kB 8.1MB/s eta 0:00:01\r\u001b[K     |█████████▎                      | 655kB 8.1MB/s eta 0:00:01\r\u001b[K     |█████████▌                      | 665kB 8.1MB/s eta 0:00:01\r\u001b[K     |█████████▋                      | 675kB 8.1MB/s eta 0:00:01\r\u001b[K     |█████████▊                      | 686kB 8.1MB/s eta 0:00:01\r\u001b[K     |██████████                      | 696kB 8.1MB/s eta 0:00:01\r\u001b[K     |██████████                      | 706kB 8.1MB/s eta 0:00:01\r\u001b[K     |██████████▏                     | 716kB 8.1MB/s eta 0:00:01\r\u001b[K     |██████████▍                     | 727kB 8.1MB/s eta 0:00:01\r\u001b[K     |██████████▌                     | 737kB 8.1MB/s eta 0:00:01\r\u001b[K     |██████████▋                     | 747kB 8.1MB/s eta 0:00:01\r\u001b[K     |██████████▉                     | 757kB 8.1MB/s eta 0:00:01\r\u001b[K     |███████████                     | 768kB 8.1MB/s eta 0:00:01\r\u001b[K     |███████████                     | 778kB 8.1MB/s eta 0:00:01\r\u001b[K     |███████████▏                    | 788kB 8.1MB/s eta 0:00:01\r\u001b[K     |███████████▍                    | 798kB 8.1MB/s eta 0:00:01\r\u001b[K     |███████████▌                    | 808kB 8.1MB/s eta 0:00:01\r\u001b[K     |███████████▋                    | 819kB 8.1MB/s eta 0:00:01\r\u001b[K     |███████████▉                    | 829kB 8.1MB/s eta 0:00:01\r\u001b[K     |████████████                    | 839kB 8.1MB/s eta 0:00:01\r\u001b[K     |████████████                    | 849kB 8.1MB/s eta 0:00:01\r\u001b[K     |████████████▎                   | 860kB 8.1MB/s eta 0:00:01\r\u001b[K     |████████████▍                   | 870kB 8.1MB/s eta 0:00:01\r\u001b[K     |████████████▌                   | 880kB 8.1MB/s eta 0:00:01\r\u001b[K     |████████████▊                   | 890kB 8.1MB/s eta 0:00:01\r\u001b[K     |████████████▉                   | 901kB 8.1MB/s eta 0:00:01\r\u001b[K     |█████████████                   | 911kB 8.1MB/s eta 0:00:01\r\u001b[K     |█████████████                   | 921kB 8.1MB/s eta 0:00:01\r\u001b[K     |█████████████▎                  | 931kB 8.1MB/s eta 0:00:01\r\u001b[K     |█████████████▍                  | 942kB 8.1MB/s eta 0:00:01\r\u001b[K     |█████████████▌                  | 952kB 8.1MB/s eta 0:00:01\r\u001b[K     |█████████████▊                  | 962kB 8.1MB/s eta 0:00:01\r\u001b[K     |█████████████▉                  | 972kB 8.1MB/s eta 0:00:01\r\u001b[K     |██████████████                  | 983kB 8.1MB/s eta 0:00:01\r\u001b[K     |██████████████▏                 | 993kB 8.1MB/s eta 0:00:01\r\u001b[K     |██████████████▎                 | 1.0MB 8.1MB/s eta 0:00:01\r\u001b[K     |██████████████▍                 | 1.0MB 8.1MB/s eta 0:00:01\r\u001b[K     |██████████████▋                 | 1.0MB 8.1MB/s eta 0:00:01\r\u001b[K     |██████████████▊                 | 1.0MB 8.1MB/s eta 0:00:01\r\u001b[K     |██████████████▉                 | 1.0MB 8.1MB/s eta 0:00:01\r\u001b[K     |███████████████                 | 1.1MB 8.1MB/s eta 0:00:01\r\u001b[K     |███████████████▏                | 1.1MB 8.1MB/s eta 0:00:01\r\u001b[K     |███████████████▎                | 1.1MB 8.1MB/s eta 0:00:01\r\u001b[K     |███████████████▍                | 1.1MB 8.1MB/s eta 0:00:01\r\u001b[K     |███████████████▋                | 1.1MB 8.1MB/s eta 0:00:01\r\u001b[K     |███████████████▊                | 1.1MB 8.1MB/s eta 0:00:01\r\u001b[K     |███████████████▉                | 1.1MB 8.1MB/s eta 0:00:01\r\u001b[K     |████████████████                | 1.1MB 8.1MB/s eta 0:00:01\r\u001b[K     |████████████████▏               | 1.1MB 8.1MB/s eta 0:00:01\r\u001b[K     |████████████████▎               | 1.1MB 8.1MB/s eta 0:00:01\r\u001b[K     |████████████████▌               | 1.2MB 8.1MB/s eta 0:00:01\r\u001b[K     |████████████████▋               | 1.2MB 8.1MB/s eta 0:00:01\r\u001b[K     |████████████████▊               | 1.2MB 8.1MB/s eta 0:00:01\r\u001b[K     |█████████████████               | 1.2MB 8.1MB/s eta 0:00:01\r\u001b[K     |█████████████████               | 1.2MB 8.1MB/s eta 0:00:01\r\u001b[K     |█████████████████▏              | 1.2MB 8.1MB/s eta 0:00:01\r\u001b[K     |█████████████████▎              | 1.2MB 8.1MB/s eta 0:00:01\r\u001b[K     |█████████████████▌              | 1.2MB 8.1MB/s eta 0:00:01\r\u001b[K     |█████████████████▋              | 1.2MB 8.1MB/s eta 0:00:01\r\u001b[K     |█████████████████▊              | 1.2MB 8.1MB/s eta 0:00:01\r\u001b[K     |██████████████████              | 1.3MB 8.1MB/s eta 0:00:01\r\u001b[K     |██████████████████              | 1.3MB 8.1MB/s eta 0:00:01\r\u001b[K     |██████████████████▏             | 1.3MB 8.1MB/s eta 0:00:01\r\u001b[K     |██████████████████▍             | 1.3MB 8.1MB/s eta 0:00:01\r\u001b[K     |██████████████████▌             | 1.3MB 8.1MB/s eta 0:00:01\r\u001b[K     |██████████████████▋             | 1.3MB 8.1MB/s eta 0:00:01\r\u001b[K     |██████████████████▉             | 1.3MB 8.1MB/s eta 0:00:01\r\u001b[K     |███████████████████             | 1.3MB 8.1MB/s eta 0:00:01\r\u001b[K     |███████████████████             | 1.3MB 8.1MB/s eta 0:00:01\r\u001b[K     |███████████████████▎            | 1.4MB 8.1MB/s eta 0:00:01\r\u001b[K     |███████████████████▍            | 1.4MB 8.1MB/s eta 0:00:01\r\u001b[K     |███████████████████▌            | 1.4MB 8.1MB/s eta 0:00:01\r\u001b[K     |███████████████████▋            | 1.4MB 8.1MB/s eta 0:00:01\r\u001b[K     |███████████████████▉            | 1.4MB 8.1MB/s eta 0:00:01\r\u001b[K     |████████████████████            | 1.4MB 8.1MB/s eta 0:00:01\r\u001b[K     |████████████████████            | 1.4MB 8.1MB/s eta 0:00:01\r\u001b[K     |████████████████████▎           | 1.4MB 8.1MB/s eta 0:00:01\r\u001b[K     |████████████████████▍           | 1.4MB 8.1MB/s eta 0:00:01\r\u001b[K     |████████████████████▌           | 1.4MB 8.1MB/s eta 0:00:01\r\u001b[K     |████████████████████▊           | 1.5MB 8.1MB/s eta 0:00:01\r\u001b[K     |████████████████████▉           | 1.5MB 8.1MB/s eta 0:00:01\r\u001b[K     |█████████████████████           | 1.5MB 8.1MB/s eta 0:00:01\r\u001b[K     |█████████████████████▏          | 1.5MB 8.1MB/s eta 0:00:01\r\u001b[K     |█████████████████████▎          | 1.5MB 8.1MB/s eta 0:00:01\r\u001b[K     |█████████████████████▍          | 1.5MB 8.1MB/s eta 0:00:01\r\u001b[K     |█████████████████████▋          | 1.5MB 8.1MB/s eta 0:00:01\r\u001b[K     |█████████████████████▊          | 1.5MB 8.1MB/s eta 0:00:01\r\u001b[K     |█████████████████████▉          | 1.5MB 8.1MB/s eta 0:00:01\r\u001b[K     |██████████████████████          | 1.5MB 8.1MB/s eta 0:00:01\r\u001b[K     |██████████████████████▏         | 1.6MB 8.1MB/s eta 0:00:01\r\u001b[K     |██████████████████████▎         | 1.6MB 8.1MB/s eta 0:00:01\r\u001b[K     |██████████████████████▍         | 1.6MB 8.1MB/s eta 0:00:01\r\u001b[K     |██████████████████████▋         | 1.6MB 8.1MB/s eta 0:00:01\r\u001b[K     |██████████████████████▊         | 1.6MB 8.1MB/s eta 0:00:01\r\u001b[K     |██████████████████████▉         | 1.6MB 8.1MB/s eta 0:00:01\r\u001b[K     |███████████████████████         | 1.6MB 8.1MB/s eta 0:00:01\r\u001b[K     |███████████████████████▏        | 1.6MB 8.1MB/s eta 0:00:01\r\u001b[K     |███████████████████████▎        | 1.6MB 8.1MB/s eta 0:00:01\r\u001b[K     |███████████████████████▌        | 1.6MB 8.1MB/s eta 0:00:01\r\u001b[K     |███████████████████████▋        | 1.7MB 8.1MB/s eta 0:00:01\r\u001b[K     |███████████████████████▊        | 1.7MB 8.1MB/s eta 0:00:01\r\u001b[K     |███████████████████████▉        | 1.7MB 8.1MB/s eta 0:00:01\r\u001b[K     |████████████████████████        | 1.7MB 8.1MB/s eta 0:00:01\r\u001b[K     |████████████████████████▏       | 1.7MB 8.1MB/s eta 0:00:01\r\u001b[K     |████████████████████████▎       | 1.7MB 8.1MB/s eta 0:00:01\r\u001b[K     |████████████████████████▌       | 1.7MB 8.1MB/s eta 0:00:01\r\u001b[K     |████████████████████████▋       | 1.7MB 8.1MB/s eta 0:00:01\r\u001b[K     |████████████████████████▊       | 1.7MB 8.1MB/s eta 0:00:01\r\u001b[K     |█████████████████████████       | 1.8MB 8.1MB/s eta 0:00:01\r\u001b[K     |█████████████████████████       | 1.8MB 8.1MB/s eta 0:00:01\r\u001b[K     |█████████████████████████▏      | 1.8MB 8.1MB/s eta 0:00:01\r\u001b[K     |█████████████████████████▍      | 1.8MB 8.1MB/s eta 0:00:01\r\u001b[K     |█████████████████████████▌      | 1.8MB 8.1MB/s eta 0:00:01\r\u001b[K     |█████████████████████████▋      | 1.8MB 8.1MB/s eta 0:00:01\r\u001b[K     |█████████████████████████▉      | 1.8MB 8.1MB/s eta 0:00:01\r\u001b[K     |██████████████████████████      | 1.8MB 8.1MB/s eta 0:00:01\r\u001b[K     |██████████████████████████      | 1.8MB 8.1MB/s eta 0:00:01\r\u001b[K     |██████████████████████████▏     | 1.8MB 8.1MB/s eta 0:00:01\r\u001b[K     |██████████████████████████▍     | 1.9MB 8.1MB/s eta 0:00:01\r\u001b[K     |██████████████████████████▌     | 1.9MB 8.1MB/s eta 0:00:01\r\u001b[K     |██████████████████████████▋     | 1.9MB 8.1MB/s eta 0:00:01\r\u001b[K     |██████████████████████████▉     | 1.9MB 8.1MB/s eta 0:00:01\r\u001b[K     |███████████████████████████     | 1.9MB 8.1MB/s eta 0:00:01\r\u001b[K     |███████████████████████████     | 1.9MB 8.1MB/s eta 0:00:01\r\u001b[K     |███████████████████████████▎    | 1.9MB 8.1MB/s eta 0:00:01\r\u001b[K     |███████████████████████████▍    | 1.9MB 8.1MB/s eta 0:00:01\r\u001b[K     |███████████████████████████▌    | 1.9MB 8.1MB/s eta 0:00:01\r\u001b[K     |███████████████████████████▊    | 1.9MB 8.1MB/s eta 0:00:01\r\u001b[K     |███████████████████████████▉    | 2.0MB 8.1MB/s eta 0:00:01\r\u001b[K     |████████████████████████████    | 2.0MB 8.1MB/s eta 0:00:01\r\u001b[K     |████████████████████████████▏   | 2.0MB 8.1MB/s eta 0:00:01\r\u001b[K     |████████████████████████████▎   | 2.0MB 8.1MB/s eta 0:00:01\r\u001b[K     |████████████████████████████▍   | 2.0MB 8.1MB/s eta 0:00:01\r\u001b[K     |████████████████████████████▌   | 2.0MB 8.1MB/s eta 0:00:01\r\u001b[K     |████████████████████████████▊   | 2.0MB 8.1MB/s eta 0:00:01\r\u001b[K     |████████████████████████████▉   | 2.0MB 8.1MB/s eta 0:00:01\r\u001b[K     |█████████████████████████████   | 2.0MB 8.1MB/s eta 0:00:01\r\u001b[K     |█████████████████████████████▏  | 2.0MB 8.1MB/s eta 0:00:01\r\u001b[K     |█████████████████████████████▎  | 2.1MB 8.1MB/s eta 0:00:01\r\u001b[K     |█████████████████████████████▍  | 2.1MB 8.1MB/s eta 0:00:01\r\u001b[K     |█████████████████████████████▋  | 2.1MB 8.1MB/s eta 0:00:01\r\u001b[K     |█████████████████████████████▊  | 2.1MB 8.1MB/s eta 0:00:01\r\u001b[K     |█████████████████████████████▉  | 2.1MB 8.1MB/s eta 0:00:01\r\u001b[K     |██████████████████████████████  | 2.1MB 8.1MB/s eta 0:00:01\r\u001b[K     |██████████████████████████████▏ | 2.1MB 8.1MB/s eta 0:00:01\r\u001b[K     |██████████████████████████████▎ | 2.1MB 8.1MB/s eta 0:00:01\r\u001b[K     |██████████████████████████████▍ | 2.1MB 8.1MB/s eta 0:00:01\r\u001b[K     |██████████████████████████████▋ | 2.2MB 8.1MB/s eta 0:00:01\r\u001b[K     |██████████████████████████████▊ | 2.2MB 8.1MB/s eta 0:00:01\r\u001b[K     |██████████████████████████████▉ | 2.2MB 8.1MB/s eta 0:00:01\r\u001b[K     |███████████████████████████████ | 2.2MB 8.1MB/s eta 0:00:01\r\u001b[K     |███████████████████████████████▏| 2.2MB 8.1MB/s eta 0:00:01\r\u001b[K     |███████████████████████████████▎| 2.2MB 8.1MB/s eta 0:00:01\r\u001b[K     |███████████████████████████████▌| 2.2MB 8.1MB/s eta 0:00:01\r\u001b[K     |███████████████████████████████▋| 2.2MB 8.1MB/s eta 0:00:01\r\u001b[K     |███████████████████████████████▊| 2.2MB 8.1MB/s eta 0:00:01\r\u001b[K     |████████████████████████████████| 2.2MB 8.1MB/s eta 0:00:01\r\u001b[K     |████████████████████████████████| 2.3MB 8.1MB/s \n",
            "\u001b[?25hRequirement already satisfied: tqdm>=4.27 in /usr/local/lib/python3.7/dist-packages (from transformers) (4.41.1)\n",
            "Collecting tokenizers<0.11,>=0.10.1\n",
            "\u001b[?25l  Downloading https://files.pythonhosted.org/packages/d4/e2/df3543e8ffdab68f5acc73f613de9c2b155ac47f162e725dcac87c521c11/tokenizers-0.10.3-cp37-cp37m-manylinux_2_5_x86_64.manylinux1_x86_64.manylinux_2_12_x86_64.manylinux2010_x86_64.whl (3.3MB)\n",
            "\u001b[K     |████████████████████████████████| 3.3MB 48.7MB/s \n",
            "\u001b[?25hRequirement already satisfied: regex!=2019.12.17 in /usr/local/lib/python3.7/dist-packages (from transformers) (2019.12.20)\n",
            "Requirement already satisfied: packaging in /usr/local/lib/python3.7/dist-packages (from transformers) (20.9)\n",
            "Requirement already satisfied: requests in /usr/local/lib/python3.7/dist-packages (from transformers) (2.23.0)\n",
            "Collecting sacremoses\n",
            "\u001b[?25l  Downloading https://files.pythonhosted.org/packages/75/ee/67241dc87f266093c533a2d4d3d69438e57d7a90abb216fa076e7d475d4a/sacremoses-0.0.45-py3-none-any.whl (895kB)\n",
            "\u001b[K     |████████████████████████████████| 901kB 41.8MB/s \n",
            "\u001b[?25hRequirement already satisfied: importlib-metadata; python_version < \"3.8\" in /usr/local/lib/python3.7/dist-packages (from transformers) (4.0.1)\n",
            "Requirement already satisfied: filelock in /usr/local/lib/python3.7/dist-packages (from transformers) (3.0.12)\n",
            "Requirement already satisfied: numpy>=1.17 in /usr/local/lib/python3.7/dist-packages (from transformers) (1.19.5)\n",
            "Collecting huggingface-hub==0.0.8\n",
            "  Downloading https://files.pythonhosted.org/packages/a1/88/7b1e45720ecf59c6c6737ff332f41c955963090a18e72acbcbeac6b25e86/huggingface_hub-0.0.8-py3-none-any.whl\n",
            "Requirement already satisfied: pyparsing>=2.0.2 in /usr/local/lib/python3.7/dist-packages (from packaging->transformers) (2.4.7)\n",
            "Requirement already satisfied: certifi>=2017.4.17 in /usr/local/lib/python3.7/dist-packages (from requests->transformers) (2020.12.5)\n",
            "Requirement already satisfied: idna<3,>=2.5 in /usr/local/lib/python3.7/dist-packages (from requests->transformers) (2.10)\n",
            "Requirement already satisfied: urllib3!=1.25.0,!=1.25.1,<1.26,>=1.21.1 in /usr/local/lib/python3.7/dist-packages (from requests->transformers) (1.24.3)\n",
            "Requirement already satisfied: chardet<4,>=3.0.2 in /usr/local/lib/python3.7/dist-packages (from requests->transformers) (3.0.4)\n",
            "Requirement already satisfied: joblib in /usr/local/lib/python3.7/dist-packages (from sacremoses->transformers) (1.0.1)\n",
            "Requirement already satisfied: click in /usr/local/lib/python3.7/dist-packages (from sacremoses->transformers) (7.1.2)\n",
            "Requirement already satisfied: six in /usr/local/lib/python3.7/dist-packages (from sacremoses->transformers) (1.15.0)\n",
            "Requirement already satisfied: zipp>=0.5 in /usr/local/lib/python3.7/dist-packages (from importlib-metadata; python_version < \"3.8\"->transformers) (3.4.1)\n",
            "Requirement already satisfied: typing-extensions>=3.6.4; python_version < \"3.8\" in /usr/local/lib/python3.7/dist-packages (from importlib-metadata; python_version < \"3.8\"->transformers) (3.7.4.3)\n",
            "Installing collected packages: tokenizers, sacremoses, huggingface-hub, transformers\n",
            "Successfully installed huggingface-hub-0.0.8 sacremoses-0.0.45 tokenizers-0.10.3 transformers-4.6.1\n"
          ],
          "name": "stdout"
        }
      ]
    },
    {
      "cell_type": "code",
      "metadata": {
        "colab": {
          "base_uri": "https://localhost:8080/"
        },
        "id": "gS0SCiOKZeAF",
        "outputId": "74fbac7c-908f-41be-a427-a9fa19bd0a2c"
      },
      "source": [
        "from google.colab import drive\n",
        "drive.mount('/content/drive')"
      ],
      "execution_count": null,
      "outputs": [
        {
          "output_type": "stream",
          "text": [
            "Mounted at /content/drive\n"
          ],
          "name": "stdout"
        }
      ]
    },
    {
      "cell_type": "code",
      "metadata": {
        "colab": {
          "base_uri": "https://localhost:8080/",
          "height": 407
        },
        "id": "s76PDblGdbq9",
        "outputId": "8eff5385-8ce5-4aa7-b0d1-efc254a2f36f"
      },
      "source": [
        "# Refrence https://www.coursera.org/projects/sentiment-analysis-bert?action=enroll\n",
        "# https://towardsdatascience.com/multi-class-text-classification-with-deep-learning-using-bert-b59ca2f5c613\n",
        "\n",
        "from sklearn.model_selection import train_test_split\n",
        "\n",
        "import torch\n",
        "from tqdm.notebook import tqdm\n",
        "\n",
        "import pandas as pd\n",
        "from transformers import BertTokenizer\n",
        "from torch.utils.data import TensorDataset\n",
        "\n",
        "from transformers import BertForSequenceClassification\n",
        "\n",
        "df = pd.read_csv('/content/drive/Shareddrives/20News_Text_classification/Cleaned_Data.csv')\n",
        "df"
      ],
      "execution_count": null,
      "outputs": [
        {
          "output_type": "execute_result",
          "data": {
            "text/html": [
              "<div>\n",
              "<style scoped>\n",
              "    .dataframe tbody tr th:only-of-type {\n",
              "        vertical-align: middle;\n",
              "    }\n",
              "\n",
              "    .dataframe tbody tr th {\n",
              "        vertical-align: top;\n",
              "    }\n",
              "\n",
              "    .dataframe thead th {\n",
              "        text-align: right;\n",
              "    }\n",
              "</style>\n",
              "<table border=\"1\" class=\"dataframe\">\n",
              "  <thead>\n",
              "    <tr style=\"text-align: right;\">\n",
              "      <th></th>\n",
              "      <th>file content</th>\n",
              "      <th>class number</th>\n",
              "    </tr>\n",
              "  </thead>\n",
              "  <tbody>\n",
              "    <tr>\n",
              "      <th>0</th>\n",
              "      <td>As summer the usual are being made Me was thin...</td>\n",
              "      <td>0</td>\n",
              "    </tr>\n",
              "    <tr>\n",
              "      <th>1</th>\n",
              "      <td>Southern 41493 Please send me any to this ride...</td>\n",
              "      <td>0</td>\n",
              "    </tr>\n",
              "    <tr>\n",
              "      <th>2</th>\n",
              "      <td>1 Trying to figure out a way to put a halogen ...</td>\n",
              "      <td>0</td>\n",
              "    </tr>\n",
              "    <tr>\n",
              "      <th>3</th>\n",
              "      <td>In article Frank Ball wrote The 400 model is e...</td>\n",
              "      <td>0</td>\n",
              "    </tr>\n",
              "    <tr>\n",
              "      <th>4</th>\n",
              "      <td>Eric Nelson My 83 Nighthawk two related with t...</td>\n",
              "      <td>0</td>\n",
              "    </tr>\n",
              "    <tr>\n",
              "      <th>...</th>\n",
              "      <td>...</td>\n",
              "      <td>...</td>\n",
              "    </tr>\n",
              "    <tr>\n",
              "      <th>18702</th>\n",
              "      <td>12GB hard Drive Brand NEW with full factory wa...</td>\n",
              "      <td>19</td>\n",
              "    </tr>\n",
              "    <tr>\n",
              "      <th>18703</th>\n",
              "      <td>my 14 monitor id dead due to the failure if yo...</td>\n",
              "      <td>19</td>\n",
              "    </tr>\n",
              "    <tr>\n",
              "      <th>18704</th>\n",
              "      <td>selling 388 worth of for 100 or Ill split it i...</td>\n",
              "      <td>19</td>\n",
              "    </tr>\n",
              "    <tr>\n",
              "      <th>18705</th>\n",
              "      <td>Computer card good for doing graphics on your ...</td>\n",
              "      <td>19</td>\n",
              "    </tr>\n",
              "    <tr>\n",
              "      <th>18706</th>\n",
              "      <td>COMPUTER HARDWARE all are working fine last ti...</td>\n",
              "      <td>19</td>\n",
              "    </tr>\n",
              "  </tbody>\n",
              "</table>\n",
              "<p>18707 rows × 2 columns</p>\n",
              "</div>"
            ],
            "text/plain": [
              "                                            file content  class number\n",
              "0      As summer the usual are being made Me was thin...             0\n",
              "1      Southern 41493 Please send me any to this ride...             0\n",
              "2      1 Trying to figure out a way to put a halogen ...             0\n",
              "3      In article Frank Ball wrote The 400 model is e...             0\n",
              "4      Eric Nelson My 83 Nighthawk two related with t...             0\n",
              "...                                                  ...           ...\n",
              "18702  12GB hard Drive Brand NEW with full factory wa...            19\n",
              "18703  my 14 monitor id dead due to the failure if yo...            19\n",
              "18704  selling 388 worth of for 100 or Ill split it i...            19\n",
              "18705  Computer card good for doing graphics on your ...            19\n",
              "18706  COMPUTER HARDWARE all are working fine last ti...            19\n",
              "\n",
              "[18707 rows x 2 columns]"
            ]
          },
          "metadata": {
            "tags": []
          },
          "execution_count": 3
        }
      ]
    },
    {
      "cell_type": "code",
      "metadata": {
        "id": "zOh9g3_ndbrC"
      },
      "source": [
        "from sklearn.model_selection import train_test_split\n",
        "\n",
        "X_train, X_val, y_train, y_val = train_test_split(df['file content'].values, \n",
        "                                                  df['class number'].values, \n",
        "                                                  test_size=0.15, \n",
        "                                                  random_state=42, )\n"
      ],
      "execution_count": null,
      "outputs": []
    },
    {
      "cell_type": "code",
      "metadata": {
        "id": "tkjROONudbrD",
        "colab": {
          "base_uri": "https://localhost:8080/",
          "height": 167,
          "referenced_widgets": [
            "a84a7199daee4369ac0bcc8b3a527b7a",
            "75f6e14be7264ea89dd28b98e88056bf",
            "ae2682a5d10a46cba2665dcccce1756f",
            "88d6c416e0854673b72ce5a308647764",
            "34c1fbdde52b4e249f911a45f81002db",
            "3b47b83a52164ea19be49ff835fc5a8d",
            "3206c680c2294745a7f0760f6a5d658f",
            "1504c4e4c2f34eb7b5b43b81652186c6",
            "9ca58280d847466eb25171b203d1a80a",
            "cdb46ac03ed74cdebb997dffe8107f3b",
            "78a94382cd4047a7875e0a19aa2ef842",
            "dfe38ff9c3c34740bfec6ae2556ddf7a",
            "4de26c10ce0b401ca08cb78d340e2ec2",
            "aa4ae4b748804989832762a8ef587c54",
            "cfe6b58d5c91493ca2798e468472e6a8",
            "afc290267aa54670aa8247ec070d28e5",
            "8cc996286bcd424e8510cffad37ad410",
            "b5d3dbc6af4548e2923c73c4f1c9ae82",
            "17a1d81c197f4a82a3d7f2625fd65d0c",
            "c787d7bb74964d5797deb8a6e1164376",
            "517b8d21b4a7401682292b942f77a079",
            "47d3bda8bd2d421fb4602b1c03005a5d",
            "fef2b2be65534bb1b681227d367aea7f",
            "62bf0aeb803a4fe39753ea88efcbcf57"
          ]
        },
        "outputId": "72216cd2-589c-4845-ef80-647cff846a70"
      },
      "source": [
        "tokenizer = BertTokenizer.from_pretrained('bert-base-uncased',  do_lower_case=True)"
      ],
      "execution_count": null,
      "outputs": [
        {
          "output_type": "display_data",
          "data": {
            "application/vnd.jupyter.widget-view+json": {
              "model_id": "a84a7199daee4369ac0bcc8b3a527b7a",
              "version_minor": 0,
              "version_major": 2
            },
            "text/plain": [
              "HBox(children=(FloatProgress(value=0.0, description='Downloading', max=231508.0, style=ProgressStyle(descripti…"
            ]
          },
          "metadata": {
            "tags": []
          }
        },
        {
          "output_type": "stream",
          "text": [
            "\n"
          ],
          "name": "stdout"
        },
        {
          "output_type": "display_data",
          "data": {
            "application/vnd.jupyter.widget-view+json": {
              "model_id": "9ca58280d847466eb25171b203d1a80a",
              "version_minor": 0,
              "version_major": 2
            },
            "text/plain": [
              "HBox(children=(FloatProgress(value=0.0, description='Downloading', max=28.0, style=ProgressStyle(description_w…"
            ]
          },
          "metadata": {
            "tags": []
          }
        },
        {
          "output_type": "stream",
          "text": [
            "\n"
          ],
          "name": "stdout"
        },
        {
          "output_type": "display_data",
          "data": {
            "application/vnd.jupyter.widget-view+json": {
              "model_id": "8cc996286bcd424e8510cffad37ad410",
              "version_minor": 0,
              "version_major": 2
            },
            "text/plain": [
              "HBox(children=(FloatProgress(value=0.0, description='Downloading', max=466062.0, style=ProgressStyle(descripti…"
            ]
          },
          "metadata": {
            "tags": []
          }
        },
        {
          "output_type": "stream",
          "text": [
            "\n"
          ],
          "name": "stdout"
        }
      ]
    },
    {
      "cell_type": "code",
      "metadata": {
        "colab": {
          "base_uri": "https://localhost:8080/"
        },
        "id": "18q_EcqFdbrD",
        "outputId": "fd5aaf23-fdcf-4775-87bb-dc78ab546996"
      },
      "source": [
        "encoded_data_train = tokenizer.batch_encode_plus(\n",
        "    X_train, \n",
        "    add_special_tokens=True, \n",
        "    return_attention_mask=True, \n",
        "    pad_to_max_length=True, \n",
        "    max_length=256, \n",
        "    return_tensors='pt'\n",
        ")\n",
        "\n",
        "encoded_data_val = tokenizer.batch_encode_plus(\n",
        "    X_val, \n",
        "    add_special_tokens=True, \n",
        "    return_attention_mask=True, \n",
        "    pad_to_max_length=True, \n",
        "    max_length=256, \n",
        "    return_tensors='pt'\n",
        ")"
      ],
      "execution_count": null,
      "outputs": [
        {
          "output_type": "stream",
          "text": [
            "Truncation was not explicitly activated but `max_length` is provided a specific value, please use `truncation=True` to explicitly truncate examples to max length. Defaulting to 'longest_first' truncation strategy. If you encode pairs of sequences (GLUE-style) with the tokenizer you can select this strategy more precisely by providing a specific strategy to `truncation`.\n",
            "/usr/local/lib/python3.7/dist-packages/transformers/tokenization_utils_base.py:2110: FutureWarning: The `pad_to_max_length` argument is deprecated and will be removed in a future version, use `padding=True` or `padding='longest'` to pad to the longest sequence in the batch, or use `padding='max_length'` to pad to a max length. In this case, you can give a specific length with `max_length` (e.g. `max_length=45`) or leave max_length to None to pad to the maximal input size of the model (e.g. 512 for Bert).\n",
            "  FutureWarning,\n"
          ],
          "name": "stderr"
        }
      ]
    },
    {
      "cell_type": "code",
      "metadata": {
        "id": "t40Rfop6dbrF"
      },
      "source": [
        "input_ids_train = encoded_data_train['input_ids']\n",
        "attention_masks_train = encoded_data_train['attention_mask']\n",
        "labels_train = torch.tensor(y_train)\n",
        "\n",
        "input_ids_val = encoded_data_val['input_ids']\n",
        "attention_masks_val = encoded_data_val['attention_mask']\n",
        "labels_val = torch.tensor(y_val)\n",
        "\n",
        "dataset_train = TensorDataset(input_ids_train, attention_masks_train, labels_train)\n",
        "dataset_val = TensorDataset(input_ids_val, attention_masks_val, labels_val)"
      ],
      "execution_count": null,
      "outputs": []
    },
    {
      "cell_type": "code",
      "metadata": {
        "colab": {
          "base_uri": "https://localhost:8080/",
          "height": 228,
          "referenced_widgets": [
            "0f27302f710c4910a2d27e479fca098b",
            "d4aa9159766a4e23874a5edc0e52658d",
            "187290097d9b446ba24662b5200b6909",
            "420a929d8098474695d4a15e748d2c23",
            "1f060f2e4c9641df9cf5b4a297090044",
            "a12c867f0764462c8e0fb5fc60e1f164",
            "470438e98d2d4806b23a4a206025def8",
            "91e399915bf14ea3b6b7aae96ecb6fe4",
            "8a7688dc7f234f8ba7e8dab876789473",
            "6e51acf87655475d841b84533eccbe93",
            "e80f74724eaa45e9a95996e281d7c55a",
            "d01c3fe79c674c208489047000925604",
            "66caed0b6f814eb2824404243206c508",
            "5dddb1a8e1e644d7815c4f2e8c9fb1fa",
            "5a45e5c697c2499ca1211c4c1dece845",
            "a2d509bb6d444747b1aa1d25fa9b60ab"
          ]
        },
        "id": "yvkZCNq3dbrG",
        "outputId": "cd29bae6-7d2b-4152-f8d5-f2cfde184e64"
      },
      "source": [
        "model = BertForSequenceClassification.from_pretrained(\"bert-base-uncased\",\n",
        "                                                      num_labels=20,\n",
        "                                                      output_attentions=False,\n",
        "                                                      output_hidden_states=False)\n",
        "device = \"cuda:0\"\n",
        "\n",
        "model = model.to(device)\n"
      ],
      "execution_count": null,
      "outputs": [
        {
          "output_type": "display_data",
          "data": {
            "application/vnd.jupyter.widget-view+json": {
              "model_id": "0f27302f710c4910a2d27e479fca098b",
              "version_minor": 0,
              "version_major": 2
            },
            "text/plain": [
              "HBox(children=(FloatProgress(value=0.0, description='Downloading', max=570.0, style=ProgressStyle(description_…"
            ]
          },
          "metadata": {
            "tags": []
          }
        },
        {
          "output_type": "stream",
          "text": [
            "\n"
          ],
          "name": "stdout"
        },
        {
          "output_type": "display_data",
          "data": {
            "application/vnd.jupyter.widget-view+json": {
              "model_id": "8a7688dc7f234f8ba7e8dab876789473",
              "version_minor": 0,
              "version_major": 2
            },
            "text/plain": [
              "HBox(children=(FloatProgress(value=0.0, description='Downloading', max=440473133.0, style=ProgressStyle(descri…"
            ]
          },
          "metadata": {
            "tags": []
          }
        },
        {
          "output_type": "stream",
          "text": [
            "\n"
          ],
          "name": "stdout"
        },
        {
          "output_type": "stream",
          "text": [
            "Some weights of the model checkpoint at bert-base-uncased were not used when initializing BertForSequenceClassification: ['cls.seq_relationship.weight', 'cls.predictions.transform.dense.weight', 'cls.predictions.transform.dense.bias', 'cls.predictions.decoder.weight', 'cls.predictions.transform.LayerNorm.bias', 'cls.predictions.transform.LayerNorm.weight', 'cls.predictions.bias', 'cls.seq_relationship.bias']\n",
            "- This IS expected if you are initializing BertForSequenceClassification from the checkpoint of a model trained on another task or with another architecture (e.g. initializing a BertForSequenceClassification model from a BertForPreTraining model).\n",
            "- This IS NOT expected if you are initializing BertForSequenceClassification from the checkpoint of a model that you expect to be exactly identical (initializing a BertForSequenceClassification model from a BertForSequenceClassification model).\n",
            "Some weights of BertForSequenceClassification were not initialized from the model checkpoint at bert-base-uncased and are newly initialized: ['classifier.bias', 'classifier.weight']\n",
            "You should probably TRAIN this model on a down-stream task to be able to use it for predictions and inference.\n"
          ],
          "name": "stderr"
        }
      ]
    },
    {
      "cell_type": "code",
      "metadata": {
        "id": "JHynz1-5dbrG"
      },
      "source": [
        "from torch.utils.data import DataLoader, RandomSampler, SequentialSampler\n",
        "\n",
        "batch_size = 10\n",
        "\n",
        "dataloader_train = DataLoader(dataset_train, \n",
        "                              sampler=RandomSampler(dataset_train), \n",
        "                              batch_size=batch_size)\n",
        "\n",
        "dataloader_validation = DataLoader(dataset_val, \n",
        "                                   sampler=SequentialSampler(dataset_val), \n",
        "                                   batch_size=batch_size)"
      ],
      "execution_count": null,
      "outputs": []
    },
    {
      "cell_type": "code",
      "metadata": {
        "id": "dr3cgjgpdbrH"
      },
      "source": [
        "from transformers import AdamW, get_linear_schedule_with_warmup\n",
        "\n",
        "optimizer = AdamW(model.parameters(),\n",
        "                  lr=1e-5, \n",
        "                  eps=1e-8)\n",
        "                  \n",
        "epochs = 3\n",
        "\n",
        "scheduler = get_linear_schedule_with_warmup(optimizer, \n",
        "                                            num_warmup_steps=0,\n",
        "                                            num_training_steps=len(dataloader_train)*epochs)\n"
      ],
      "execution_count": null,
      "outputs": []
    },
    {
      "cell_type": "code",
      "metadata": {
        "id": "MPhrbDTJdbrI"
      },
      "source": [
        "from sklearn.metrics import f1_score\n",
        "\n",
        "def f1_score_func(preds, labels):\n",
        "    preds_flat = np.argmax(preds, axis=1).flatten()\n",
        "    labels_flat = labels.flatten()\n",
        "    return f1_score(labels_flat, preds_flat, average='weighted')\n",
        "\n",
        "def accuracy_per_class(preds, labels):\n",
        "    #label_dict_inverse = {v: k for k, v in label_dict.items()}\n",
        "    \n",
        "    preds_flat = np.argmax(preds, axis=1).flatten()\n",
        "    labels_flat = labels.flatten()\n",
        "    total_acc = 0 \n",
        "    for label in np.unique(labels_flat):\n",
        "        y_preds = preds_flat[labels_flat==label]\n",
        "        y_true = labels_flat[labels_flat==label]\n",
        "        total_acc += len(y_preds[y_preds==label])/len(y_true)\n",
        "        print(f'Class: {label}')\n",
        "        print(f'Accuracy: {len(y_preds[y_preds==label])}/{len(y_true)}\\n')\n",
        "        print(f'Accuracy: {len(y_preds[y_preds==label])/len(y_true)}\\n')\n",
        "    print(total_acc/20)"
      ],
      "execution_count": null,
      "outputs": []
    },
    {
      "cell_type": "code",
      "metadata": {
        "id": "BP1LEnlqYohO"
      },
      "source": [
        "import random\n",
        "import numpy as np\n",
        "\n",
        "seed_val = 17\n",
        "random.seed(seed_val)\n",
        "np.random.seed(seed_val)\n",
        "torch.manual_seed(seed_val)\n",
        "torch.cuda.manual_seed_all(seed_val)\n",
        "\n",
        "def evaluate(dataloader_val):\n",
        "\n",
        "    model.eval()\n",
        "    \n",
        "    loss_val_total = 0\n",
        "    predictions, true_vals = [], []\n",
        "    \n",
        "    for batch in dataloader_val:\n",
        "        \n",
        "        batch = tuple(b.to(device) for b in batch)\n",
        "        \n",
        "        inputs = {'input_ids':      batch[0],\n",
        "                  'attention_mask': batch[1],\n",
        "                  'labels':         batch[2],\n",
        "                 }\n",
        "\n",
        "        with torch.no_grad():        \n",
        "            outputs = model(**inputs)\n",
        "            \n",
        "        loss = outputs[0]\n",
        "        logits = outputs[1]\n",
        "        loss_val_total += loss.item()\n",
        "\n",
        "        logits = logits.detach().cpu().numpy()\n",
        "        label_ids = inputs['labels'].cpu().numpy()\n",
        "        predictions.append(logits)\n",
        "        true_vals.append(label_ids)\n",
        "    \n",
        "    loss_val_avg = loss_val_total/len(dataloader_val) \n",
        "    \n",
        "    predictions = np.concatenate(predictions, axis=0)\n",
        "    true_vals = np.concatenate(true_vals, axis=0)\n",
        "            \n",
        "    return loss_val_avg, predictions, true_vals"
      ],
      "execution_count": null,
      "outputs": []
    },
    {
      "cell_type": "code",
      "metadata": {
        "id": "lqHyx7ZcdbrJ"
      },
      "source": [
        "model.load_state_dict(torch.load('/content/drive/Shareddrives/20News_Text_classification/finetuned_BERT_epoch_2.model'))\n",
        "\n",
        "for epoch in tqdm(range(1, epochs+1)):\n",
        "    \n",
        "    model.train()\n",
        "    \n",
        "    loss_train_total = 0\n",
        "\n",
        "    progress_bar = tqdm(dataloader_train, desc='Epoch {:1d}'.format(epoch), leave=False, disable=False)\n",
        "\n",
        "    for batch in progress_bar:\n",
        "\n",
        "        model.zero_grad()\n",
        "        \n",
        "        batch = tuple(b.to(device) for b in batch)\n",
        "        \n",
        "        inputs = {'input_ids':      batch[0],\n",
        "                  'attention_mask': batch[1],\n",
        "                  'labels':         batch[2],\n",
        "                 }       \n",
        "\n",
        "        outputs = model(**inputs)\n",
        "        \n",
        "        loss = outputs[0]\n",
        "        loss_train_total += loss.item()\n",
        "        loss.backward()\n",
        "\n",
        "        torch.nn.utils.clip_grad_norm_(model.parameters(), 1.0)\n",
        "\n",
        "        optimizer.step()\n",
        "        scheduler.step()\n",
        "        \n",
        "        progress_bar.set_postfix({'training_loss': '{:.3f}'.format(loss.item()/len(batch))})\n",
        "         \n",
        "        \n",
        "    torch.save(model.state_dict(), f'/content/drive/Shareddrives/20News_Text_classification/finetuned_BERT_epoch_{epoch+2}.model')\n",
        "        \n",
        "    tqdm.write(f'\\nEpoch {epoch}')\n",
        "    \n",
        "    loss_train_avg = loss_train_total/len(dataloader_train)            \n",
        "    tqdm.write(f'Training loss: {loss_train_avg}')\n",
        "    \n",
        "    val_loss, predictions, true_vals = evaluate(dataloader_validation)\n",
        "    val_f1 = f1_score_func(predictions, true_vals)\n",
        "    tqdm.write(f'Validation loss: {val_loss}')\n",
        "    tqdm.write(f'F1 Score (Weighted): {val_f1}')"
      ],
      "execution_count": null,
      "outputs": []
    },
    {
      "cell_type": "code",
      "metadata": {
        "colab": {
          "base_uri": "https://localhost:8080/"
        },
        "id": "8kuMEzOadbrM",
        "outputId": "62845e53-d022-4f30-e917-4ab331f19f0d"
      },
      "source": [
        "model = BertForSequenceClassification.from_pretrained(\"bert-base-uncased\",\n",
        "                                                      num_labels=20,\n",
        "                                                      output_attentions=False,\n",
        "                                                      output_hidden_states=False)\n",
        "\n",
        "model.to(device)\n",
        "\n",
        "model.load_state_dict(torch.load('/content/drive/Shareddrives/20News_Text_classification/finetuned_BERT_epoch_4.model', map_location=torch.device('cpu')))\n",
        "\n",
        "_, predictions, true_vals = evaluate(dataloader_validation)\n"
      ],
      "execution_count": null,
      "outputs": [
        {
          "output_type": "stream",
          "text": [
            "Some weights of the model checkpoint at bert-base-uncased were not used when initializing BertForSequenceClassification: ['cls.seq_relationship.weight', 'cls.predictions.transform.dense.weight', 'cls.predictions.transform.dense.bias', 'cls.predictions.decoder.weight', 'cls.predictions.transform.LayerNorm.bias', 'cls.predictions.transform.LayerNorm.weight', 'cls.predictions.bias', 'cls.seq_relationship.bias']\n",
            "- This IS expected if you are initializing BertForSequenceClassification from the checkpoint of a model trained on another task or with another architecture (e.g. initializing a BertForSequenceClassification model from a BertForPreTraining model).\n",
            "- This IS NOT expected if you are initializing BertForSequenceClassification from the checkpoint of a model that you expect to be exactly identical (initializing a BertForSequenceClassification model from a BertForSequenceClassification model).\n",
            "Some weights of BertForSequenceClassification were not initialized from the model checkpoint at bert-base-uncased and are newly initialized: ['classifier.bias', 'classifier.weight']\n",
            "You should probably TRAIN this model on a down-stream task to be able to use it for predictions and inference.\n"
          ],
          "name": "stderr"
        }
      ]
    },
    {
      "cell_type": "code",
      "metadata": {
        "id": "FpE3fsT3Y21G",
        "colab": {
          "base_uri": "https://localhost:8080/"
        },
        "outputId": "872ae568-2c17-4dcb-e5bf-4e9191e27113"
      },
      "source": [
        "accuracy_per_class(predictions, y_val)"
      ],
      "execution_count": null,
      "outputs": [
        {
          "output_type": "stream",
          "text": [
            "Class: 0\n",
            "Accuracy: 110/131\n",
            "\n",
            "Accuracy: 0.8396946564885496\n",
            "\n",
            "Class: 1\n",
            "Accuracy: 107/131\n",
            "\n",
            "Accuracy: 0.816793893129771\n",
            "\n",
            "Class: 2\n",
            "Accuracy: 138/161\n",
            "\n",
            "Accuracy: 0.8571428571428571\n",
            "\n",
            "Class: 3\n",
            "Accuracy: 77/145\n",
            "\n",
            "Accuracy: 0.5310344827586206\n",
            "\n",
            "Class: 4\n",
            "Accuracy: 7/99\n",
            "\n",
            "Accuracy: 0.0707070707070707\n",
            "\n",
            "Class: 5\n",
            "Accuracy: 120/137\n",
            "\n",
            "Accuracy: 0.8759124087591241\n",
            "\n",
            "Class: 6\n",
            "Accuracy: 132/158\n",
            "\n",
            "Accuracy: 0.8354430379746836\n",
            "\n",
            "Class: 7\n",
            "Accuracy: 79/118\n",
            "\n",
            "Accuracy: 0.6694915254237288\n",
            "\n",
            "Class: 8\n",
            "Accuracy: 125/167\n",
            "\n",
            "Accuracy: 0.7485029940119761\n",
            "\n",
            "Class: 9\n",
            "Accuracy: 130/157\n",
            "\n",
            "Accuracy: 0.8280254777070064\n",
            "\n",
            "Class: 10\n",
            "Accuracy: 81/125\n",
            "\n",
            "Accuracy: 0.648\n",
            "\n",
            "Class: 11\n",
            "Accuracy: 117/153\n",
            "\n",
            "Accuracy: 0.7647058823529411\n",
            "\n",
            "Class: 12\n",
            "Accuracy: 64/105\n",
            "\n",
            "Accuracy: 0.6095238095238096\n",
            "\n",
            "Class: 13\n",
            "Accuracy: 138/159\n",
            "\n",
            "Accuracy: 0.8679245283018868\n",
            "\n",
            "Class: 14\n",
            "Accuracy: 108/151\n",
            "\n",
            "Accuracy: 0.7152317880794702\n",
            "\n",
            "Class: 15\n",
            "Accuracy: 133/149\n",
            "\n",
            "Accuracy: 0.8926174496644296\n",
            "\n",
            "Class: 16\n",
            "Accuracy: 129/149\n",
            "\n",
            "Accuracy: 0.8657718120805369\n",
            "\n",
            "Class: 17\n",
            "Accuracy: 129/141\n",
            "\n",
            "Accuracy: 0.9148936170212766\n",
            "\n",
            "Class: 18\n",
            "Accuracy: 100/135\n",
            "\n",
            "Accuracy: 0.7407407407407407\n",
            "\n",
            "Class: 19\n",
            "Accuracy: 108/136\n",
            "\n",
            "Accuracy: 0.7941176470588235\n",
            "\n",
            "0.744313783946365\n"
          ],
          "name": "stdout"
        }
      ]
    },
    {
      "cell_type": "code",
      "metadata": {
        "id": "duIVhK72ZjT1"
      },
      "source": [
        ""
      ],
      "execution_count": null,
      "outputs": []
    }
  ]
}