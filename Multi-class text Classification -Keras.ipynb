{
 "cells": [
  {
   "cell_type": "code",
   "execution_count": 1,
   "metadata": {},
   "outputs": [],
   "source": [
    "import csv\n",
    "import tensorflow as tf\n",
    "import numpy as np\n",
    "from tensorflow.keras.preprocessing.text import Tokenizer\n",
    "from tensorflow.keras.preprocessing.sequence import pad_sequences\n",
    "from sklearn import model_selection"
   ]
  },
  {
   "cell_type": "code",
   "execution_count": 2,
   "metadata": {},
   "outputs": [
    {
     "data": {
      "text/html": [
       "<div>\n",
       "<style scoped>\n",
       "    .dataframe tbody tr th:only-of-type {\n",
       "        vertical-align: middle;\n",
       "    }\n",
       "\n",
       "    .dataframe tbody tr th {\n",
       "        vertical-align: top;\n",
       "    }\n",
       "\n",
       "    .dataframe thead th {\n",
       "        text-align: right;\n",
       "    }\n",
       "</style>\n",
       "<table border=\"1\" class=\"dataframe\">\n",
       "  <thead>\n",
       "    <tr style=\"text-align: right;\">\n",
       "      <th></th>\n",
       "      <th>file content</th>\n",
       "      <th>class number</th>\n",
       "    </tr>\n",
       "  </thead>\n",
       "  <tbody>\n",
       "    <tr>\n",
       "      <th>0</th>\n",
       "      <td>As summer the usual are being made Me was thin...</td>\n",
       "      <td>0</td>\n",
       "    </tr>\n",
       "    <tr>\n",
       "      <th>1</th>\n",
       "      <td>Southern 41493 Please send me any to this ride...</td>\n",
       "      <td>0</td>\n",
       "    </tr>\n",
       "    <tr>\n",
       "      <th>2</th>\n",
       "      <td>1 Trying to figure out a way to put a halogen ...</td>\n",
       "      <td>0</td>\n",
       "    </tr>\n",
       "    <tr>\n",
       "      <th>3</th>\n",
       "      <td>In article Frank Ball wrote The 400 model is e...</td>\n",
       "      <td>0</td>\n",
       "    </tr>\n",
       "    <tr>\n",
       "      <th>4</th>\n",
       "      <td>Eric Nelson My 83 Nighthawk two related with t...</td>\n",
       "      <td>0</td>\n",
       "    </tr>\n",
       "    <tr>\n",
       "      <th>...</th>\n",
       "      <td>...</td>\n",
       "      <td>...</td>\n",
       "    </tr>\n",
       "    <tr>\n",
       "      <th>18702</th>\n",
       "      <td>12GB hard Drive Brand NEW with full factory wa...</td>\n",
       "      <td>19</td>\n",
       "    </tr>\n",
       "    <tr>\n",
       "      <th>18703</th>\n",
       "      <td>my 14 monitor id dead due to the failure if yo...</td>\n",
       "      <td>19</td>\n",
       "    </tr>\n",
       "    <tr>\n",
       "      <th>18704</th>\n",
       "      <td>selling 388 worth of for 100 or Ill split it i...</td>\n",
       "      <td>19</td>\n",
       "    </tr>\n",
       "    <tr>\n",
       "      <th>18705</th>\n",
       "      <td>Computer card good for doing graphics on your ...</td>\n",
       "      <td>19</td>\n",
       "    </tr>\n",
       "    <tr>\n",
       "      <th>18706</th>\n",
       "      <td>COMPUTER HARDWARE all are working fine last ti...</td>\n",
       "      <td>19</td>\n",
       "    </tr>\n",
       "  </tbody>\n",
       "</table>\n",
       "<p>18707 rows × 2 columns</p>\n",
       "</div>"
      ],
      "text/plain": [
       "                                            file content  class number\n",
       "0      As summer the usual are being made Me was thin...             0\n",
       "1      Southern 41493 Please send me any to this ride...             0\n",
       "2      1 Trying to figure out a way to put a halogen ...             0\n",
       "3      In article Frank Ball wrote The 400 model is e...             0\n",
       "4      Eric Nelson My 83 Nighthawk two related with t...             0\n",
       "...                                                  ...           ...\n",
       "18702  12GB hard Drive Brand NEW with full factory wa...            19\n",
       "18703  my 14 monitor id dead due to the failure if yo...            19\n",
       "18704  selling 388 worth of for 100 or Ill split it i...            19\n",
       "18705  Computer card good for doing graphics on your ...            19\n",
       "18706  COMPUTER HARDWARE all are working fine last ti...            19\n",
       "\n",
       "[18707 rows x 2 columns]"
      ]
     },
     "execution_count": 2,
     "metadata": {},
     "output_type": "execute_result"
    }
   ],
   "source": [
    "import pandas\n",
    "Data = pandas.read_csv('Cleaned_Data.csv')\n",
    "Data"
   ]
  },
  {
   "cell_type": "code",
   "execution_count": 3,
   "metadata": {},
   "outputs": [],
   "source": [
    "train_x, test_x, train_y, test_y = model_selection.train_test_split(Data['file content'], Data['class number'])\n"
   ]
  },
  {
   "cell_type": "code",
   "execution_count": 4,
   "metadata": {},
   "outputs": [],
   "source": [
    "vocab_size = 5000\n",
    "\n",
    "tokenizer = Tokenizer(num_words = vocab_size)\n",
    "tokenizer.fit_on_texts(train_x)\n",
    "word_index = tokenizer.word_index\n"
   ]
  },
  {
   "cell_type": "code",
   "execution_count": 5,
   "metadata": {},
   "outputs": [
    {
     "name": "stdout",
     "output_type": "stream",
     "text": [
      "[12, 62, 7, 24, 506, 639, 5, 127, 57, 111, 18, 100, 5, 7, 24, 819, 22, 166, 82, 171, 48, 53, 107, 61, 554, 20, 1048, 6, 1796, 76, 10, 679, 15, 11, 46, 265, 2, 1286, 21, 4194, 4, 84, 7, 173, 2, 295, 6, 31, 224, 1753, 5, 7, 259, 9, 4, 265, 142, 75, 15, 29, 2732, 3447, 9, 8, 27, 155, 5, 44, 179, 1, 730, 1000, 42, 32, 7, 54, 379, 8, 67, 4, 56, 30, 15, 14, 29, 755, 42, 166, 209, 48, 67, 31, 155, 30, 209, 48, 32, 7, 30, 21, 323, 4194, 57, 2207, 4, 224, 77, 18, 100, 10, 224, 419, 9, 17, 331, 10, 516, 2, 773, 42, 10, 280, 1031, 2, 773, 18, 57, 43, 218, 3, 1, 7, 70, 10, 7, 88, 1677, 225, 48, 6, 3190, 116, 280, 9, 25, 70, 4, 108, 2, 4194, 5, 24, 336, 27, 1, 2067, 773, 9, 25, 183, 16, 9, 108, 2137, 32, 2137, 233, 1476, 3989, 3, 1, 571, 776, 18, 4, 2733, 23, 2, 1, 198, 3, 31, 930, 1, 1039, 44, 55, 71, 32, 8, 6, 1, 1000, 9, 8, 1, 2120, 264, 96, 1, 337, 696, 8, 321, 14, 3350, 133, 1, 1039, 1, 1070, 2, 1, 8, 4, 1001, 696, 5, 1, 1777, 2868, 457, 10, 8, 2, 3251, 6, 9, 1001, 1889, 6, 287, 2, 15, 2583, 157, 16, 4, 770, 14, 4, 526, 1070, 2, 1, 1039, 27, 1, 1000, 1039, 30, 18, 2624, 4, 2957, 21, 817, 9, 8, 96, 4139, 346, 95, 576, 68, 27, 2207, 29, 32, 12, 124, 39, 3, 224, 561, 2, 15, 7, 134, 9, 29, 224, 24, 153, 2583, 58, 4, 224, 8, 1876, 27, 1, 2067, 773, 2, 15, 9, 224, 24, 153, 129, 4, 224, 1, 93, 717, 3, 1, 224, 118, 1, 224, 28, 51, 136, 514, 48, 22, 248, 23, 58, 4, 224, 8, 2, 15, 116, 3, 2625, 9, 224, 8, 7, 54, 134, 280, 73, 6, 773, 73, 6, 102, 730, 2915, 773, 37, 90, 16, 73, 569, 89, 1969, 2075, 5, 89]\n"
     ]
    }
   ],
   "source": [
    "train_sequences = tokenizer.texts_to_sequences(train_x)"
   ]
  },
  {
   "cell_type": "code",
   "execution_count": 6,
   "metadata": {},
   "outputs": [
    {
     "name": "stdout",
     "output_type": "stream",
     "text": [
      "69\n",
      "300\n",
      "16\n",
      "300\n",
      "355\n",
      "300\n"
     ]
    }
   ],
   "source": [
    "max_length = 300\n",
    "padding_type = 'post'\n",
    "trunc_type = 'post'\n",
    "\n",
    "\n",
    "train_padded = pad_sequences(train_sequences, maxlen=max_length, padding=padding_type, truncating=trunc_type)"
   ]
  },
  {
   "cell_type": "code",
   "execution_count": 7,
   "metadata": {},
   "outputs": [
    {
     "name": "stdout",
     "output_type": "stream",
     "text": [
      "4677\n",
      "(4677, 300)\n"
     ]
    }
   ],
   "source": [
    "validation_sequences = tokenizer.texts_to_sequences(test_x)\n",
    "validation_padded = pad_sequences(validation_sequences, maxlen=max_length, padding=padding_type, truncating=trunc_type)"
   ]
  },
  {
   "cell_type": "code",
   "execution_count": 8,
   "metadata": {},
   "outputs": [
    {
     "name": "stdout",
     "output_type": "stream",
     "text": [
      "Model: \"sequential\"\n",
      "_________________________________________________________________\n",
      "Layer (type)                 Output Shape              Param #   \n",
      "=================================================================\n",
      "embedding (Embedding)        (None, None, 64)          320000    \n",
      "_________________________________________________________________\n",
      "bidirectional (Bidirectional (None, 128)               66048     \n",
      "_________________________________________________________________\n",
      "dense (Dense)                (None, 64)                8256      \n",
      "_________________________________________________________________\n",
      "dense_1 (Dense)              (None, 20)                1300      \n",
      "=================================================================\n",
      "Total params: 395,604\n",
      "Trainable params: 395,604\n",
      "Non-trainable params: 0\n",
      "_________________________________________________________________\n"
     ]
    }
   ],
   "source": [
    "embedding_dim = 64\n",
    "\n",
    "model = tf.keras.Sequential([\n",
    "    tf.keras.layers.Embedding(vocab_size, embedding_dim),\n",
    "    tf.keras.layers.Bidirectional(tf.keras.layers.LSTM(embedding_dim)),\n",
    "    tf.keras.layers.Dense(embedding_dim, activation='relu'),\n",
    "    tf.keras.layers.Dense(20, activation='softmax')\n",
    "])\n",
    "model.summary()"
   ]
  },
  {
   "cell_type": "code",
   "execution_count": 9,
   "metadata": {},
   "outputs": [
    {
     "name": "stdout",
     "output_type": "stream",
     "text": [
      "Epoch 1/15\n",
      "439/439 - 145s - loss: 2.6067 - accuracy: 0.1299 - val_loss: 2.3326 - val_accuracy: 0.1941\n",
      "Epoch 2/15\n",
      "439/439 - 111s - loss: 2.0341 - accuracy: 0.2676 - val_loss: 2.2744 - val_accuracy: 0.2598\n",
      "Epoch 3/15\n",
      "439/439 - 112s - loss: 1.5967 - accuracy: 0.4185 - val_loss: 1.5878 - val_accuracy: 0.4655\n",
      "Epoch 4/15\n",
      "439/439 - 122s - loss: 1.1846 - accuracy: 0.5659 - val_loss: 1.4711 - val_accuracy: 0.5208\n",
      "Epoch 5/15\n",
      "439/439 - 124s - loss: 0.9209 - accuracy: 0.6740 - val_loss: 1.2923 - val_accuracy: 0.5976\n",
      "Epoch 6/15\n",
      "439/439 - 124s - loss: 0.7282 - accuracy: 0.7478 - val_loss: 1.3457 - val_accuracy: 0.6130\n",
      "Epoch 7/15\n",
      "439/439 - 79s - loss: 0.6012 - accuracy: 0.7962 - val_loss: 1.2854 - val_accuracy: 0.6506\n",
      "Epoch 8/15\n",
      "439/439 - 59s - loss: 0.5009 - accuracy: 0.8366 - val_loss: 1.2987 - val_accuracy: 0.6647\n",
      "Epoch 9/15\n",
      "439/439 - 59s - loss: 0.4576 - accuracy: 0.8550 - val_loss: 1.3637 - val_accuracy: 0.6632\n",
      "Epoch 10/15\n",
      "439/439 - 59s - loss: 0.3844 - accuracy: 0.8793 - val_loss: 1.3580 - val_accuracy: 0.6769\n",
      "Epoch 11/15\n",
      "439/439 - 59s - loss: 0.3200 - accuracy: 0.9015 - val_loss: 1.4182 - val_accuracy: 0.6731\n",
      "Epoch 12/15\n",
      "439/439 - 57s - loss: 0.2783 - accuracy: 0.9172 - val_loss: 1.6173 - val_accuracy: 0.6684\n",
      "Epoch 13/15\n",
      "439/439 - 57s - loss: 0.2401 - accuracy: 0.9277 - val_loss: 1.5991 - val_accuracy: 0.6718\n",
      "Epoch 14/15\n",
      "439/439 - 59s - loss: 0.2343 - accuracy: 0.9310 - val_loss: 1.6338 - val_accuracy: 0.6620\n",
      "Epoch 15/15\n",
      "439/439 - 56s - loss: 0.2009 - accuracy: 0.9410 - val_loss: 1.5731 - val_accuracy: 0.6823\n"
     ]
    }
   ],
   "source": [
    "model.compile(loss='sparse_categorical_crossentropy', optimizer='adam', metrics=['accuracy'])\n",
    "num_epochs = 15\n",
    "history = model.fit(train_padded, train_y, epochs=num_epochs, validation_data=(validation_padded, test_y), verbose=2)"
   ]
  },
  {
   "cell_type": "code",
   "execution_count": 10,
   "metadata": {},
   "outputs": [
    {
     "data": {
      "image/png": "[encoded data removed]",
      "text/plain": [
       "<Figure size 432x288 with 1 Axes>"
      ]
     },
     "metadata": {
      "needs_background": "light"
     },
     "output_type": "display_data"
    },
    {
     "data": {
      "image/png": "[encoded data removed]",
      "text/plain": [
       "<Figure size 432x288 with 1 Axes>"
      ]
     },
     "metadata": {
      "needs_background": "light"
     },
     "output_type": "display_data"
    }
   ],
   "source": [
    "import matplotlib.pyplot as plt\n",
    "\n",
    "def plot_graphs(history, string):\n",
    "    plt.plot(history.history[string])\n",
    "    plt.plot(history.history['val_'+string])\n",
    "    plt.xlabel(\"Epochs\")\n",
    "    plt.ylabel(string)\n",
    "    plt.legend([string, 'val_'+string])\n",
    "    plt.show()\n",
    "  \n",
    "plot_graphs(history, \"accuracy\")\n",
    "plot_graphs(history, \"loss\")"
   ]
  },
  {
   "cell_type": "code",
   "execution_count": null,
   "metadata": {},
   "outputs": [],
   "source": []
  },
  {
   "cell_type": "code",
   "execution_count": null,
   "metadata": {},
   "outputs": [],
   "source": []
  }
 ],
 "metadata": {
  "kernelspec": {
   "display_name": "Python 3",
   "language": "python",
   "name": "python3"
  },
  "language_info": {
   "codemirror_mode": {
    "name": "ipython",
    "version": 3
   },
   "file_extension": ".py",
   "mimetype": "text/x-python",
   "name": "python",
   "nbconvert_exporter": "python",
   "pygments_lexer": "ipython3",
   "version": "3.8.5"
  }
 },
 "nbformat": 4,
 "nbformat_minor": 4
}
