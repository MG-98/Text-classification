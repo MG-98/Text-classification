{
 "cells": [
  {
   "cell_type": "code",
   "execution_count": 1,
   "metadata": {},
   "outputs": [],
   "source": [
    "import csv\n",
    "import tensorflow as tf\n",
    "import numpy as np\n",
    "from tensorflow.keras.preprocessing.text import Tokenizer\n",
    "from tensorflow.keras.preprocessing.sequence import pad_sequences\n",
    "from sklearn import model_selection"
   ]
  },
  {
   "cell_type": "code",
   "execution_count": 2,
   "metadata": {},
   "outputs": [
    {
     "data": {
      "text/html": [
       "<div>\n",
       "<style scoped>\n",
       "    .dataframe tbody tr th:only-of-type {\n",
       "        vertical-align: middle;\n",
       "    }\n",
       "\n",
       "    .dataframe tbody tr th {\n",
       "        vertical-align: top;\n",
       "    }\n",
       "\n",
       "    .dataframe thead th {\n",
       "        text-align: right;\n",
       "    }\n",
       "</style>\n",
       "<table border=\"1\" class=\"dataframe\">\n",
       "  <thead>\n",
       "    <tr style=\"text-align: right;\">\n",
       "      <th></th>\n",
       "      <th>file content</th>\n",
       "      <th>class number</th>\n",
       "    </tr>\n",
       "  </thead>\n",
       "  <tbody>\n",
       "    <tr>\n",
       "      <th>0</th>\n",
       "      <td>As summer the usual are being made Me was thin...</td>\n",
       "      <td>0</td>\n",
       "    </tr>\n",
       "    <tr>\n",
       "      <th>1</th>\n",
       "      <td>Southern 41493 Please send me any to this ride...</td>\n",
       "      <td>0</td>\n",
       "    </tr>\n",
       "    <tr>\n",
       "      <th>2</th>\n",
       "      <td>1 Trying to figure out a way to put a halogen ...</td>\n",
       "      <td>0</td>\n",
       "    </tr>\n",
       "    <tr>\n",
       "      <th>3</th>\n",
       "      <td>In article Frank Ball wrote The 400 model is e...</td>\n",
       "      <td>0</td>\n",
       "    </tr>\n",
       "    <tr>\n",
       "      <th>4</th>\n",
       "      <td>Eric Nelson My 83 Nighthawk two related with t...</td>\n",
       "      <td>0</td>\n",
       "    </tr>\n",
       "    <tr>\n",
       "      <th>...</th>\n",
       "      <td>...</td>\n",
       "      <td>...</td>\n",
       "    </tr>\n",
       "    <tr>\n",
       "      <th>18702</th>\n",
       "      <td>12GB hard Drive Brand NEW with full factory wa...</td>\n",
       "      <td>19</td>\n",
       "    </tr>\n",
       "    <tr>\n",
       "      <th>18703</th>\n",
       "      <td>my 14 monitor id dead due to the failure if yo...</td>\n",
       "      <td>19</td>\n",
       "    </tr>\n",
       "    <tr>\n",
       "      <th>18704</th>\n",
       "      <td>selling 388 worth of for 100 or Ill split it i...</td>\n",
       "      <td>19</td>\n",
       "    </tr>\n",
       "    <tr>\n",
       "      <th>18705</th>\n",
       "      <td>Computer card good for doing graphics on your ...</td>\n",
       "      <td>19</td>\n",
       "    </tr>\n",
       "    <tr>\n",
       "      <th>18706</th>\n",
       "      <td>COMPUTER HARDWARE all are working fine last ti...</td>\n",
       "      <td>19</td>\n",
       "    </tr>\n",
       "  </tbody>\n",
       "</table>\n",
       "<p>18707 rows × 2 columns</p>\n",
       "</div>"
      ],
      "text/plain": [
       "                                            file content  class number\n",
       "0      As summer the usual are being made Me was thin...             0\n",
       "1      Southern 41493 Please send me any to this ride...             0\n",
       "2      1 Trying to figure out a way to put a halogen ...             0\n",
       "3      In article Frank Ball wrote The 400 model is e...             0\n",
       "4      Eric Nelson My 83 Nighthawk two related with t...             0\n",
       "...                                                  ...           ...\n",
       "18702  12GB hard Drive Brand NEW with full factory wa...            19\n",
       "18703  my 14 monitor id dead due to the failure if yo...            19\n",
       "18704  selling 388 worth of for 100 or Ill split it i...            19\n",
       "18705  Computer card good for doing graphics on your ...            19\n",
       "18706  COMPUTER HARDWARE all are working fine last ti...            19\n",
       "\n",
       "[18707 rows x 2 columns]"
      ]
     },
     "execution_count": 2,
     "metadata": {},
     "output_type": "execute_result"
    }
   ],
   "source": [
    "import pandas\n",
    "Data = pandas.read_csv('Cleaned_Data.csv')\n",
    "Data"
   ]
  },
  {
   "cell_type": "code",
   "execution_count": 3,
   "metadata": {},
   "outputs": [],
   "source": [
    "train_x, test_x, train_y, test_y = model_selection.train_test_split(Data['file content'], Data['class number'])\n"
   ]
  },
  {
   "cell_type": "code",
   "execution_count": 4,
   "metadata": {},
   "outputs": [
    {
     "data": {
      "text/plain": [
       "{'the': 1,\n",
       " 'to': 2,\n",
       " 'of': 3,\n",
       " 'a': 4,\n",
       " 'and': 5,\n",
       " 'in': 6,\n",
       " 'i': 7,\n",
       " 'is': 8,\n",
       " 'that': 9,\n",
       " 'it': 10}"
      ]
     },
     "execution_count": 4,
     "metadata": {},
     "output_type": "execute_result"
    }
   ],
   "source": [
    "vocab_size = 5000\n",
    "\n",
    "tokenizer = Tokenizer(num_words = vocab_size)\n",
    "tokenizer.fit_on_texts(train_x)\n",
    "word_index = tokenizer.word_index\n",
    "dict(list(word_index.items())[0:10])"
   ]
  },
  {
   "cell_type": "code",
   "execution_count": 5,
   "metadata": {},
   "outputs": [
    {
     "name": "stdout",
     "output_type": "stream",
     "text": [
      "[6, 44, 487, 67, 5, 1288, 2, 1466, 2, 9, 38, 1963, 1, 3589, 25, 717, 27, 345, 9, 8, 1, 237, 3, 1, 773, 8, 1, 237, 3, 1, 724, 5, 8, 1, 237, 3, 1, 237, 3, 1, 1080, 1034, 773, 724, 1080, 1034, 2, 199, 33, 2316, 27, 13, 18, 137, 26, 285, 2, 936, 24, 285, 214, 7, 38, 17, 55, 4, 116, 49, 2, 712, 7, 2367, 2, 131, 2, 712, 66, 234, 22, 1, 106, 41, 2, 1, 773, 76, 1, 773, 8, 165, 199, 69, 1, 724, 7, 16, 45, 19, 1179, 2, 47, 1, 355, 919, 3, 1, 15, 993, 91, 20, 43, 773, 49, 8, 6, 923, 9, 40, 31, 15, 19, 9, 40, 36, 15, 55, 132, 1173, 33, 691, 196, 57, 7, 85, 55, 132, 7, 36, 15, 1, 119, 20, 41, 41, 8, 4, 116, 22, 116, 322, 38, 13, 1, 73, 8, 17, 33, 41, 8, 17, 116, 22, 41, 36, 17, 41, 8, 4, 41, 8, 17, 116, 23, 22, 41, 75, 41, 8, 1, 3, 33, 1, 7, 54, 61, 3, 114, 49, 9, 2, 712, 1, 355, 146, 3, 1, 3589, 8, 9, 339, 214, 3, 4, 2847, 463, 116, 9, 1413, 8, 240, 13, 48, 438, 3, 1929, 7, 645, 9, 6, 60, 2558, 545, 1, 773, 5, 724, 18, 747, 214, 1360, 9, 2577, 6, 110, 489, 669, 23, 8, 1, 4488, 3, 1, 724, 430, 1, 4832, 163, 3064, 57, 6, 4, 314, 545, 73, 314, 18, 860, 2, 314, 42, 1929, 19, 1, 773, 1, 545, 3, 2577, 7, 54, 94, 9, 339, 185, 39, 9, 10, 2, 15, 6, 1, 355, 297, 3, 4488]\n"
     ]
    }
   ],
   "source": [
    "train_sequences = tokenizer.texts_to_sequences(train_x)\n",
    "print(train_sequences[10])"
   ]
  },
  {
   "cell_type": "code",
   "execution_count": 6,
   "metadata": {},
   "outputs": [
    {
     "name": "stdout",
     "output_type": "stream",
     "text": [
      "53\n",
      "300\n",
      "129\n",
      "300\n",
      "285\n",
      "300\n"
     ]
    }
   ],
   "source": [
    "max_length = 300\n",
    "padding_type = 'post'\n",
    "trunc_type = 'post'\n",
    "\n",
    "\n",
    "train_padded = pad_sequences(train_sequences, maxlen=max_length, padding=padding_type, truncating=trunc_type)\n",
    "print(len(train_sequences[0]))\n",
    "print(len(train_padded[0]))\n",
    "\n",
    "print(len(train_sequences[1]))\n",
    "print(len(train_padded[1]))\n",
    "\n",
    "print(len(train_sequences[10]))\n",
    "print(len(train_padded[10]))"
   ]
  },
  {
   "cell_type": "code",
   "execution_count": 7,
   "metadata": {},
   "outputs": [
    {
     "name": "stdout",
     "output_type": "stream",
     "text": [
      "4677\n",
      "(4677, 300)\n"
     ]
    }
   ],
   "source": [
    "validation_sequences = tokenizer.texts_to_sequences(test_x)\n",
    "validation_padded = pad_sequences(validation_sequences, maxlen=max_length, padding=padding_type, truncating=trunc_type)\n",
    "\n",
    "print(len(validation_sequences))\n",
    "print(validation_padded.shape)"
   ]
  },
  {
   "cell_type": "code",
   "execution_count": 8,
   "metadata": {},
   "outputs": [
    {
     "name": "stdout",
     "output_type": "stream",
     "text": [
      "Model: \"sequential\"\n",
      "_________________________________________________________________\n",
      "Layer (type)                 Output Shape              Param #   \n",
      "=================================================================\n",
      "embedding (Embedding)        (None, None, 64)          320000    \n",
      "_________________________________________________________________\n",
      "bidirectional (Bidirectional (None, 128)               66048     \n",
      "_________________________________________________________________\n",
      "dense (Dense)                (None, 64)                8256      \n",
      "_________________________________________________________________\n",
      "dense_1 (Dense)              (None, 20)                1300      \n",
      "=================================================================\n",
      "Total params: 395,604\n",
      "Trainable params: 395,604\n",
      "Non-trainable params: 0\n",
      "_________________________________________________________________\n"
     ]
    }
   ],
   "source": [
    "embedding_dim = 64\n",
    "\n",
    "model = tf.keras.Sequential([\n",
    "    tf.keras.layers.Embedding(vocab_size, embedding_dim),\n",
    "    tf.keras.layers.Bidirectional(tf.keras.layers.LSTM(embedding_dim)),\n",
    "    tf.keras.layers.Dense(embedding_dim, activation='relu'),\n",
    "    tf.keras.layers.Dense(20, activation='softmax')\n",
    "])\n",
    "model.summary()"
   ]
  },
  {
   "cell_type": "code",
   "execution_count": 9,
   "metadata": {},
   "outputs": [
    {
     "name": "stdout",
     "output_type": "stream",
     "text": [
      "Epoch 1/20\n",
      "439/439 - 77s - loss: 2.5802 - accuracy: 0.1373 - val_loss: 2.7178 - val_accuracy: 0.1477\n",
      "Epoch 2/20\n",
      "439/439 - 76s - loss: 2.0040 - accuracy: 0.2713 - val_loss: 1.8769 - val_accuracy: 0.3308\n",
      "Epoch 3/20\n",
      "439/439 - 67s - loss: 1.5378 - accuracy: 0.4368 - val_loss: 1.7455 - val_accuracy: 0.3934\n",
      "Epoch 4/20\n",
      "439/439 - 70s - loss: 1.2736 - accuracy: 0.5373 - val_loss: 1.5059 - val_accuracy: 0.4943\n",
      "Epoch 5/20\n",
      "439/439 - 71s - loss: 1.0210 - accuracy: 0.6418 - val_loss: 1.5236 - val_accuracy: 0.5418\n",
      "Epoch 6/20\n",
      "439/439 - 74s - loss: 0.7994 - accuracy: 0.7262 - val_loss: 1.4120 - val_accuracy: 0.5957\n",
      "Epoch 7/20\n",
      "439/439 - 70s - loss: 0.6662 - accuracy: 0.7823 - val_loss: 1.2943 - val_accuracy: 0.6414\n",
      "Epoch 8/20\n",
      "439/439 - 62s - loss: 0.5531 - accuracy: 0.8208 - val_loss: 1.3374 - val_accuracy: 0.6466\n",
      "Epoch 9/20\n",
      "439/439 - 62s - loss: 0.4518 - accuracy: 0.8541 - val_loss: 1.4105 - val_accuracy: 0.6536\n",
      "Epoch 10/20\n",
      "439/439 - 73s - loss: 0.4145 - accuracy: 0.8711 - val_loss: 1.4238 - val_accuracy: 0.6645\n",
      "Epoch 11/20\n",
      "439/439 - 78s - loss: 0.3482 - accuracy: 0.8937 - val_loss: 1.3962 - val_accuracy: 0.6756\n",
      "Epoch 12/20\n",
      "439/439 - 75s - loss: 0.3001 - accuracy: 0.9115 - val_loss: 1.4800 - val_accuracy: 0.6784\n",
      "Epoch 13/20\n",
      "439/439 - 67s - loss: 0.2306 - accuracy: 0.9321 - val_loss: 1.5327 - val_accuracy: 0.6808\n",
      "Epoch 14/20\n",
      "439/439 - 65s - loss: 0.2487 - accuracy: 0.9279 - val_loss: 1.6469 - val_accuracy: 0.6816\n",
      "Epoch 15/20\n",
      "439/439 - 64s - loss: 0.2007 - accuracy: 0.9406 - val_loss: 1.6625 - val_accuracy: 0.6789\n",
      "Epoch 16/20\n",
      "439/439 - 63s - loss: 0.2426 - accuracy: 0.9264 - val_loss: 1.6174 - val_accuracy: 0.6885\n",
      "Epoch 17/20\n",
      "439/439 - 63s - loss: 0.2123 - accuracy: 0.9356 - val_loss: 1.6763 - val_accuracy: 0.6908\n",
      "Epoch 18/20\n",
      "439/439 - 62s - loss: 0.1401 - accuracy: 0.9583 - val_loss: 1.7633 - val_accuracy: 0.6947\n",
      "Epoch 19/20\n",
      "439/439 - 69s - loss: 0.1157 - accuracy: 0.9675 - val_loss: 1.8417 - val_accuracy: 0.6831\n",
      "Epoch 20/20\n",
      "439/439 - 64s - loss: 0.1959 - accuracy: 0.9440 - val_loss: 1.7285 - val_accuracy: 0.6827\n"
     ]
    }
   ],
   "source": [
    "model.compile(loss='sparse_categorical_crossentropy', optimizer='adam', metrics=['accuracy'])\n",
    "num_epochs = 20\n",
    "history = model.fit(train_padded, train_y, epochs=num_epochs, validation_data=(validation_padded, test_y), verbose=2)"
   ]
  },
  {
   "cell_type": "code",
   "execution_count": 10,
   "metadata": {},
   "outputs": [
    {
     "data": {
      "image/png": "[encoded data removed]",
      "text/plain": [
       "<Figure size 432x288 with 1 Axes>"
      ]
     },
     "metadata": {
      "needs_background": "light"
     },
     "output_type": "display_data"
    },
    {
     "data": {
      "image/png": "[encoded data removed]",
      "text/plain": [
       "<Figure size 432x288 with 1 Axes>"
      ]
     },
     "metadata": {
      "needs_background": "light"
     },
     "output_type": "display_data"
    }
   ],
   "source": [
    "import matplotlib.pyplot as plt\n",
    "\n",
    "def plot_graphs(history, string):\n",
    "    plt.plot(history.history[string])\n",
    "    plt.plot(history.history['val_'+string])\n",
    "    plt.xlabel(\"Epochs\")\n",
    "    plt.ylabel(string)\n",
    "    plt.legend([string, 'val_'+string])\n",
    "    plt.show()\n",
    "  \n",
    "plot_graphs(history, \"accuracy\")\n",
    "plot_graphs(history, \"loss\")"
   ]
  },
  {
   "cell_type": "code",
   "execution_count": null,
   "metadata": {},
   "outputs": [],
   "source": []
  }
 ],
 "metadata": {
  "kernelspec": {
   "display_name": "Python 3",
   "language": "python",
   "name": "python3"
  },
  "language_info": {
   "codemirror_mode": {
    "name": "ipython",
    "version": 3
   },
   "file_extension": ".py",
   "mimetype": "text/x-python",
   "name": "python",
   "nbconvert_exporter": "python",
   "pygments_lexer": "ipython3",
   "version": "3.8.5"
  }
 },
 "nbformat": 4,
 "nbformat_minor": 4
}
